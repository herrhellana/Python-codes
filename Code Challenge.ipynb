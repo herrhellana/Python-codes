{
 "cells": [
  {
   "cell_type": "markdown",
   "metadata": {},
   "source": [
    "## 1. ModuleShopping"
   ]
  },
  {
   "cell_type": "markdown",
   "metadata": {},
   "source": [
    "Bunch of functions that deal with a database given (=dictionary). However, each function requires a dictionary to work with. An alternative solution of this task could be a class creation containing the same functions. "
   ]
  },
  {
   "cell_type": "code",
   "execution_count": 1,
   "metadata": {},
   "outputs": [],
   "source": [
    "# we can create a null database for further testing\n",
    "DataBase = {}"
   ]
  },
  {
   "cell_type": "code",
   "execution_count": 2,
   "metadata": {},
   "outputs": [],
   "source": [
    "def insert_product(product_code, name, price, dictionary):\n",
    "    \"\"\"\n",
    "    name includes ASCII characters\n",
    "    product_code and price are integers\n",
    "    dictionary structure:\n",
    "        keys = product code\n",
    "        values = product records (name, price)\n",
    "    \"\"\"\n",
    "    # [*dictionary] returns a list with all keys (=product codes)\n",
    "    # add a new product code as a key \n",
    "    # add its name and its price as a value vector\n",
    "    # if this name exists in a dictionary\n",
    "    if product_code not in [*dictionary]:\n",
    "        dictionary[product_code] = [name, price]"
   ]
  },
  {
   "cell_type": "code",
   "execution_count": 3,
   "metadata": {},
   "outputs": [],
   "source": [
    "def remove_product(product_code, dictionary):\n",
    "    if product_code in [*dictionary]: # check if the product code exists\n",
    "        del dictionary[product_code] # delete the product"
   ]
  },
  {
   "cell_type": "code",
   "execution_count": 4,
   "metadata": {},
   "outputs": [],
   "source": [
    "def get_product_price(product_code, dictionary):\n",
    "    if product_code in [*dictionary]: # check if the product code exists\n",
    "        return dictionary[product_code][1] # return the 2d element (price)\n",
    "    else:\n",
    "        return -1"
   ]
  },
  {
   "cell_type": "code",
   "execution_count": 5,
   "metadata": {},
   "outputs": [],
   "source": [
    "def get_product_name(product_code, dictionary):\n",
    "    if product_code in [*dictionary]: # check if the product code exists\n",
    "        return dictionary[product_code][0] # return the 1st element (name)\n",
    "    else:\n",
    "        return \"NULL\""
   ]
  },
  {
   "cell_type": "markdown",
   "metadata": {},
   "source": [
    "## 2. Times3Bitcount"
   ]
  },
  {
   "cell_type": "markdown",
   "metadata": {},
   "source": [
    "__Task__: write a function that, given a non-empty zero-indexed array A consisting of N non-negative integers, returns the number of bits set to 1 in the binary representation of the number 3\\*K, where K is the number described by array A."
   ]
  },
  {
   "cell_type": "code",
   "execution_count": 6,
   "metadata": {},
   "outputs": [],
   "source": [
    "def solution(A):\n",
    "    \"\"\"\n",
    "    Input must be an array consisting of N non-negative integers.\n",
    "    K = sum(pow2(A[i])).\n",
    "    Returns the number of bits set to 1 in the binary representation of the number 3*K.\n",
    "    \"\"\"\n",
    "    K = sum(2**i for i in A) # find K\n",
    "    \n",
    "    # count the number of 1s in the binary representation of K\n",
    "    return bin(3*K).count(\"1\")"
   ]
  },
  {
   "cell_type": "markdown",
   "metadata": {},
   "source": [
    "## 3. MaxSumDistance"
   ]
  },
  {
   "cell_type": "markdown",
   "metadata": {},
   "source": [
    "__Task__: Let A be a non-empty zero-indexed array consisting of N integers. A sum-distance of a pair of indices (P, Q), for 0 ≤ P ≤ Q < N, is the value A[P] + A[Q] + (Q − P)."
   ]
  },
  {
   "cell_type": "code",
   "execution_count": 7,
   "metadata": {},
   "outputs": [],
   "source": [
    "def solution(A):\n",
    "    \"\"\"\n",
    "    Input must be an array consisting of N integers.\n",
    "    Returns the maximum distance between elements in A such that A[P] + A[Q] + (Q − P), \n",
    "    where 0 ≤ P ≤ Q < N.\n",
    "    \"\"\"\n",
    "    # abs(i-j) returns the difference between the maximum and the minimum elements given\n",
    "    # loop over each pair of elements (i and j) in A\n",
    "    return max(A[i] + A[j] + abs(i-j) for j in range(len(A)) for i in range(len(A)))"
   ]
  },
  {
   "cell_type": "markdown",
   "metadata": {},
   "source": [
    "## 4. AdjacentPointsMinDistance"
   ]
  },
  {
   "cell_type": "markdown",
   "metadata": {},
   "source": [
    "__Task__: write a function that, given a non-empty zero-indexed array A consisting of N integers, returns the minimum distance between indices of this array that have adjacent values. The function should return −1 if the minimum distance is greater than 100,000,000. The function should return −2 if no adjacent indices exist.\n",
    "\n",
    "Integer V lies strictly between integers U and W if U < V < W or if U > V > W. A non-empty zero-indexed array A consisting of N integers is given. A pair of indices (P, Q), where 0 ≤ P < Q < N, is said to have adjacent values if no value in the array lies strictly between values A[P] and A[Q]."
   ]
  },
  {
   "cell_type": "code",
   "execution_count": 8,
   "metadata": {},
   "outputs": [],
   "source": [
    "def solution(A):\n",
    "    \"\"\"\n",
    "    Input must be an array consisting of N integers.\n",
    "    Returns the minimum destance between elements with adjacent values. \n",
    "    \"\"\"\n",
    "    s = sorted(A) # sorted in ascending order\n",
    "    return min((abs(s[i] - s[i+1])) for i in range(len(s)-1))"
   ]
  }
 ],
 "metadata": {
  "kernelspec": {
   "display_name": "Python 3",
   "language": "python",
   "name": "python3"
  },
  "language_info": {
   "codemirror_mode": {
    "name": "ipython",
    "version": 3
   },
   "file_extension": ".py",
   "mimetype": "text/x-python",
   "name": "python",
   "nbconvert_exporter": "python",
   "pygments_lexer": "ipython3",
   "version": "3.6.5"
  }
 },
 "nbformat": 4,
 "nbformat_minor": 2
}

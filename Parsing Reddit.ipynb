{
  "nbformat": 4,
  "nbformat_minor": 0,
  "metadata": {
    "colab": {
      "name": "Parsing Project.ipynb",
      "version": "0.3.2",
      "provenance": []
    },
    "kernelspec": {
      "name": "python3",
      "display_name": "Python 3"
    },
    "accelerator": "GPU"
  },
  "cells": [
    {
      "metadata": {
        "id": "dDV2A0Cr2F98",
        "colab_type": "code",
        "colab": {}
      },
      "cell_type": "code",
      "source": [
        "import requests\n",
        "from bs4 import BeautifulSoup\n",
        "\n",
        "import numpy as np\n",
        "import pandas as pd\n",
        "import matplotlib.pyplot as plt\n",
        "%matplotlib inline"
      ],
      "execution_count": 0,
      "outputs": []
    },
    {
      "metadata": {
        "id": "egLfE-kw831I",
        "colab_type": "code",
        "outputId": "0f694284-f86f-411b-a1bc-e46b56d7daf8",
        "colab": {
          "base_uri": "https://localhost:8080/",
          "height": 173
        }
      },
      "cell_type": "code",
      "source": [
        "! pip install praw --upgrade"
      ],
      "execution_count": 34,
      "outputs": [
        {
          "output_type": "stream",
          "text": [
            "Requirement already up-to-date: praw in /usr/local/lib/python3.6/dist-packages (6.0.0)\n",
            "Requirement already satisfied, skipping upgrade: update-checker>=0.16 in /usr/local/lib/python3.6/dist-packages (from praw) (0.16)\n",
            "Requirement already satisfied, skipping upgrade: prawcore<2.0,>=1.0.0 in /usr/local/lib/python3.6/dist-packages (from praw) (1.0.0)\n",
            "Requirement already satisfied, skipping upgrade: requests>=2.3.0 in /usr/local/lib/python3.6/dist-packages (from update-checker>=0.16->praw) (2.18.4)\n",
            "Requirement already satisfied, skipping upgrade: certifi>=2017.4.17 in /usr/local/lib/python3.6/dist-packages (from requests>=2.3.0->update-checker>=0.16->praw) (2018.11.29)\n",
            "Requirement already satisfied, skipping upgrade: chardet<3.1.0,>=3.0.2 in /usr/local/lib/python3.6/dist-packages (from requests>=2.3.0->update-checker>=0.16->praw) (3.0.4)\n",
            "Requirement already satisfied, skipping upgrade: urllib3<1.23,>=1.21.1 in /usr/local/lib/python3.6/dist-packages (from requests>=2.3.0->update-checker>=0.16->praw) (1.22)\n",
            "Requirement already satisfied, skipping upgrade: idna<2.7,>=2.5 in /usr/local/lib/python3.6/dist-packages (from requests>=2.3.0->update-checker>=0.16->praw) (2.6)\n"
          ],
          "name": "stdout"
        }
      ]
    },
    {
      "metadata": {
        "id": "3X6_Pamv7vZo",
        "colab_type": "code",
        "colab": {}
      },
      "cell_type": "code",
      "source": [
        "import datetime as dt\n",
        "import praw # python Reddit API Wrapper"
      ],
      "execution_count": 0,
      "outputs": []
    },
    {
      "metadata": {
        "id": "miOOHW727vb_",
        "colab_type": "code",
        "colab": {}
      },
      "cell_type": "code",
      "source": [
        "# set the praw module and get the acces to the reddit API\n",
        "\n",
        "reddit = praw.Reddit(client_id='NDCve4CTpQA9sA', \\\n",
        "                     client_secret='L-pmEs1BwIdtNZfvNfedrxCdn-c', \\\n",
        "                     user_agent='mumu_parser', \\\n",
        "                     username='mumu_parser', \\\n",
        "                     password='howcanweparse2018')"
      ],
      "execution_count": 0,
      "outputs": []
    },
    {
      "metadata": {
        "id": "4oaYAJENGdue",
        "colab_type": "code",
        "colab": {}
      },
      "cell_type": "code",
      "source": [
        "# create a null dictionary with columns where we will store the data gathered\n",
        "site_dict = {\"title\":[], \"id\":[], \"url\":[], \"num_comments\": [], \"score\":[]}\n",
        "\n",
        "\n",
        "for treads in reddit.domain(\"isidewith.com\").hot(limit = 2000): # parse the domain\n",
        "  site_dict[\"title\"].append(treads.title)\n",
        "  site_dict[\"id\"].append(treads.id)\n",
        "  site_dict[\"url\"].append(treads.url)\n",
        "  site_dict[\"num_comments\"].append(treads.num_comments)\n",
        "  site_dict[\"score\"].append(treads.score)"
      ],
      "execution_count": 0,
      "outputs": []
    },
    {
      "metadata": {
        "id": "1xrUNNwQJ7AF",
        "colab_type": "code",
        "colab": {
          "base_uri": "https://localhost:8080/",
          "height": 34
        },
        "outputId": "d5ee96e0-d8a0-4bcd-95fc-d3d690c7bb7a"
      },
      "cell_type": "code",
      "source": [
        "len(site_dict[\"title\"])"
      ],
      "execution_count": 97,
      "outputs": [
        {
          "output_type": "execute_result",
          "data": {
            "text/plain": [
              "585"
            ]
          },
          "metadata": {
            "tags": []
          },
          "execution_count": 97
        }
      ]
    },
    {
      "metadata": {
        "id": "fLNnbO-7I7Sc",
        "colab_type": "text"
      },
      "cell_type": "markdown",
      "source": [
        "Мы смогли собрать информацию о 585 сабмишенах из-за ограничения Reddit'а. Так как мы работаем не с большими данными, для простоты можем обрамить их в пандосовский датасет -- работать будет быстро. "
      ]
    },
    {
      "metadata": {
        "id": "Jwh8B6IwKdac",
        "colab_type": "code",
        "colab": {
          "base_uri": "https://localhost:8080/",
          "height": 34
        },
        "outputId": "2aef1adc-92c4-46a9-9ef0-fd6aa12e6ea7"
      },
      "cell_type": "code",
      "source": [
        "site_dict[\"title\"][1]  # look on the first title "
      ],
      "execution_count": 98,
      "outputs": [
        {
          "output_type": "execute_result",
          "data": {
            "text/plain": [
              "'Unsure of who you are voting for tomorrow? Here is a pretty helpful quiz that matches your views with the candidates.'"
            ]
          },
          "metadata": {
            "tags": []
          },
          "execution_count": 98
        }
      ]
    },
    {
      "metadata": {
        "id": "gqzGd8tj_Mjf",
        "colab_type": "code",
        "colab": {}
      },
      "cell_type": "code",
      "source": [
        "data = pd.DataFrame(site_dict)"
      ],
      "execution_count": 0,
      "outputs": []
    },
    {
      "metadata": {
        "id": "BFFjIuCwJchV",
        "colab_type": "code",
        "colab": {
          "base_uri": "https://localhost:8080/",
          "height": 204
        },
        "outputId": "d52aeb1b-9dfd-4c49-efb4-39b3cdb509d4"
      },
      "cell_type": "code",
      "source": [
        "data.head()"
      ],
      "execution_count": 101,
      "outputs": [
        {
          "output_type": "execute_result",
          "data": {
            "text/html": [
              "<div>\n",
              "<style scoped>\n",
              "    .dataframe tbody tr th:only-of-type {\n",
              "        vertical-align: middle;\n",
              "    }\n",
              "\n",
              "    .dataframe tbody tr th {\n",
              "        vertical-align: top;\n",
              "    }\n",
              "\n",
              "    .dataframe thead th {\n",
              "        text-align: right;\n",
              "    }\n",
              "</style>\n",
              "<table border=\"1\" class=\"dataframe\">\n",
              "  <thead>\n",
              "    <tr style=\"text-align: right;\">\n",
              "      <th></th>\n",
              "      <th>id</th>\n",
              "      <th>num_comments</th>\n",
              "      <th>score</th>\n",
              "      <th>title</th>\n",
              "      <th>url</th>\n",
              "    </tr>\n",
              "  </thead>\n",
              "  <tbody>\n",
              "    <tr>\n",
              "      <th>0</th>\n",
              "      <td>9unyus</td>\n",
              "      <td>1</td>\n",
              "      <td>14</td>\n",
              "      <td>Everyone go out there and vote! Not sure yet? ...</td>\n",
              "      <td>https://www.isidewith.com/</td>\n",
              "    </tr>\n",
              "    <tr>\n",
              "      <th>1</th>\n",
              "      <td>9uerzj</td>\n",
              "      <td>6</td>\n",
              "      <td>5</td>\n",
              "      <td>Unsure of who you are voting for tomorrow? Her...</td>\n",
              "      <td>https://www.isidewith.com/michigan-voter-guide</td>\n",
              "    </tr>\n",
              "    <tr>\n",
              "      <th>2</th>\n",
              "      <td>9tayih</td>\n",
              "      <td>7</td>\n",
              "      <td>22</td>\n",
              "      <td>Your vote counts - find out which candidate su...</td>\n",
              "      <td>https://www.isidewith.com</td>\n",
              "    </tr>\n",
              "    <tr>\n",
              "      <th>3</th>\n",
              "      <td>9fb5j9</td>\n",
              "      <td>9</td>\n",
              "      <td>6</td>\n",
              "      <td>UK ISideWith Survey [2017 data]</td>\n",
              "      <td>https://uk.isidewith.com/political-quiz</td>\n",
              "    </tr>\n",
              "    <tr>\n",
              "      <th>4</th>\n",
              "      <td>8h42bd</td>\n",
              "      <td>12</td>\n",
              "      <td>23</td>\n",
              "      <td>\"Kids will be kidnapped from good families in ...</td>\n",
              "      <td>https://www.isidewith.com/poll/965633/stance/3...</td>\n",
              "    </tr>\n",
              "  </tbody>\n",
              "</table>\n",
              "</div>"
            ],
            "text/plain": [
              "       id  num_comments  score  \\\n",
              "0  9unyus             1     14   \n",
              "1  9uerzj             6      5   \n",
              "2  9tayih             7     22   \n",
              "3  9fb5j9             9      6   \n",
              "4  8h42bd            12     23   \n",
              "\n",
              "                                               title  \\\n",
              "0  Everyone go out there and vote! Not sure yet? ...   \n",
              "1  Unsure of who you are voting for tomorrow? Her...   \n",
              "2  Your vote counts - find out which candidate su...   \n",
              "3                    UK ISideWith Survey [2017 data]   \n",
              "4  \"Kids will be kidnapped from good families in ...   \n",
              "\n",
              "                                                 url  \n",
              "0                         https://www.isidewith.com/  \n",
              "1     https://www.isidewith.com/michigan-voter-guide  \n",
              "2                          https://www.isidewith.com  \n",
              "3            https://uk.isidewith.com/political-quiz  \n",
              "4  https://www.isidewith.com/poll/965633/stance/3...  "
            ]
          },
          "metadata": {
            "tags": []
          },
          "execution_count": 101
        }
      ]
    },
    {
      "metadata": {
        "id": "UgTrzXbxNlLN",
        "colab_type": "code",
        "colab": {}
      },
      "cell_type": "code",
      "source": [
        "data.to_csv('Reddit.csv', index=False) # save data to a csv file"
      ],
      "execution_count": 0,
      "outputs": []
    },
    {
      "metadata": {
        "id": "etUIsXEIZpuA",
        "colab_type": "text"
      },
      "cell_type": "markdown",
      "source": [
        "# Subreddit"
      ]
    },
    {
      "metadata": {
        "id": "-JCUb1XmNwkN",
        "colab_type": "code",
        "colab": {}
      },
      "cell_type": "code",
      "source": [
        "subreddit = reddit.subreddit('politics')"
      ],
      "execution_count": 0,
      "outputs": []
    },
    {
      "metadata": {
        "id": "_fN6YT1xbMPn",
        "colab_type": "code",
        "colab": {
          "base_uri": "https://localhost:8080/",
          "height": 187
        },
        "outputId": "1195ba62-7fdc-4e85-ff39-8dcc0bb1036f"
      },
      "cell_type": "code",
      "source": [
        "for submission in subreddit.top(limit=10):\n",
        "    print(submission.title, submission.id)"
      ],
      "execution_count": 124,
      "outputs": [
        {
          "output_type": "stream",
          "text": [
            "Kim Davis, clerk who refused to sign marriage licenses for gay couples, loses to Democrat 9uuhl3\n",
            "Trump revealed highly classified information to Russian foreign minister and ambassador. 6bd42j\n",
            "Trump Ordered Mueller Fired, but Backed Off When White House Counsel Threatened to Quit 7t12e6\n",
            "Ivanka Trump used a personal email account to send hundreds of emails about government business last year 9ymbzc\n",
            "A petition calling for FCC Chairman Ajit Pai to resign is racking up huge numbers 7fpqwf\n",
            "The FCC’s craven net neutrality vote announcement makes no mention of the 22 million comments filed 7ekkmo\n",
            "'A Red Line Crossed': Nationwide Protests Declared for Thursday at 5PM After Jeff Sessions Fired 9v57rh\n",
            "Alexandria Ocasio-Cortez Says Lawmakers Should Lose Their Salaries Too When They Shut Down the Government a8nmov\n",
            "The FCC has unveiled its plan to repeal its net neutrality rules 7eizpg\n",
            "‘Cards Against Humanity’ Creator Just Pledged To Buy and Publish Congress’s Browser History 62a3kj\n"
          ],
          "name": "stdout"
        }
      ]
    },
    {
      "metadata": {
        "id": "dzS-5VrsNwmk",
        "colab_type": "code",
        "colab": {}
      },
      "cell_type": "code",
      "source": [
        "# create a null dictionary with columns where we will store the data gathered\n",
        "subred_dict = {\"title\":[], \"id\":[], \"url\":[], \"num_comments\": [], \"score\":[], \"body\":[]}\n",
        "\n",
        "for submission in subreddit.top(limit = 2000): # parse the domain\n",
        "  subred_dict[\"title\"].append(submission.title)\n",
        "  subred_dict[\"id\"].append(submission.id)\n",
        "  subred_dict[\"url\"].append(submission.url)\n",
        "  subred_dict[\"num_comments\"].append(submission.num_comments)\n",
        "  subred_dict[\"score\"].append(submission.score)\n",
        "  subred_dict[\"body\"].append(submission.selftext)"
      ],
      "execution_count": 0,
      "outputs": []
    },
    {
      "metadata": {
        "id": "sUvFRX4GNwpc",
        "colab_type": "code",
        "colab": {}
      },
      "cell_type": "code",
      "source": [
        "df = pd.DataFrame(subred_dict)"
      ],
      "execution_count": 0,
      "outputs": []
    },
    {
      "metadata": {
        "id": "CvFwOqLoa3Qb",
        "colab_type": "code",
        "colab": {
          "base_uri": "https://localhost:8080/",
          "height": 34
        },
        "outputId": "0d16e2e2-b088-4018-d33f-9834b136df3b"
      },
      "cell_type": "code",
      "source": [
        "len(df[\"id\"]) # 998 is due to the limitations of Reddit (< 1000)"
      ],
      "execution_count": 128,
      "outputs": [
        {
          "output_type": "execute_result",
          "data": {
            "text/plain": [
              "998"
            ]
          },
          "metadata": {
            "tags": []
          },
          "execution_count": 128
        }
      ]
    },
    {
      "metadata": {
        "id": "caeoxYrma3Sq",
        "colab_type": "code",
        "colab": {}
      },
      "cell_type": "code",
      "source": [
        "sub_comments = []\n",
        "\n",
        "for comment in subreddit.comments(limit=2000):\n",
        "    sub_comments.append(comment.body)"
      ],
      "execution_count": 0,
      "outputs": []
    },
    {
      "metadata": {
        "id": "kksBv63JbnSb",
        "colab_type": "code",
        "colab": {
          "base_uri": "https://localhost:8080/",
          "height": 54
        },
        "outputId": "44a3ff67-2ed9-44b7-fb5a-a8dad90718fc"
      },
      "cell_type": "code",
      "source": [
        "sub_comments[10]"
      ],
      "execution_count": 134,
      "outputs": [
        {
          "output_type": "execute_result",
          "data": {
            "text/plain": [
              "'Big difference between my mother and myself. She once punished me for not standing up to a bully when they were messing with my friend citing guilt by association. I took it to heart... She taught me something that she refuses to take on herself. '"
            ]
          },
          "metadata": {
            "tags": []
          },
          "execution_count": 134
        }
      ]
    },
    {
      "metadata": {
        "id": "41aRD7k6bnVK",
        "colab_type": "code",
        "colab": {}
      },
      "cell_type": "code",
      "source": [
        "from IPython import display\n",
        "from pprint import pprint\n",
        "import nltk\n",
        "import seaborn as sns\n",
        "sns.set(style='darkgrid', context='talk', palette='Dark2')"
      ],
      "execution_count": 0,
      "outputs": []
    },
    {
      "metadata": {
        "id": "WmHJOeypefI6",
        "colab_type": "code",
        "colab": {
          "base_uri": "https://localhost:8080/",
          "height": 292
        },
        "outputId": "adb1d8e7-7c14-4dfc-e6af-33892a426bb0"
      },
      "cell_type": "code",
      "source": [
        "! pip install nltk --upgrade"
      ],
      "execution_count": 138,
      "outputs": [
        {
          "output_type": "stream",
          "text": [
            "Collecting nltk\n",
            "\u001b[?25l  Downloading https://files.pythonhosted.org/packages/6f/ed/9c755d357d33bc1931e157f537721efb5b88d2c583fe593cc09603076cc3/nltk-3.4.zip (1.4MB)\n",
            "\r\u001b[K    0% |▎                               | 10kB 23.0MB/s eta 0:00:01\r\u001b[K    1% |▌                               | 20kB 1.8MB/s eta 0:00:01\r\u001b[K    2% |▊                               | 30kB 2.6MB/s eta 0:00:01\r\u001b[K    2% |█                               | 40kB 1.7MB/s eta 0:00:01\r\u001b[K    3% |█▏                              | 51kB 2.1MB/s eta 0:00:01\r\u001b[K    4% |█▍                              | 61kB 2.5MB/s eta 0:00:01\r\u001b[K    5% |█▋                              | 71kB 2.9MB/s eta 0:00:01\r\u001b[K    5% |█▉                              | 81kB 3.3MB/s eta 0:00:01\r\u001b[K    6% |██                              | 92kB 3.6MB/s eta 0:00:01\r\u001b[K    7% |██▎                             | 102kB 2.8MB/s eta 0:00:01\r\u001b[K    7% |██▌                             | 112kB 2.8MB/s eta 0:00:01\r\u001b[K    8% |██▊                             | 122kB 4.1MB/s eta 0:00:01\r\u001b[K    9% |███                             | 133kB 4.1MB/s eta 0:00:01\r\u001b[K    10% |███▏                            | 143kB 7.7MB/s eta 0:00:01\r\u001b[K    10% |███▍                            | 153kB 7.7MB/s eta 0:00:01\r\u001b[K    11% |███▋                            | 163kB 7.7MB/s eta 0:00:01\r\u001b[K    12% |████                            | 174kB 7.7MB/s eta 0:00:01\r\u001b[K    12% |████▏                           | 184kB 7.7MB/s eta 0:00:01\r\u001b[K    13% |████▍                           | 194kB 7.8MB/s eta 0:00:01\r\u001b[K    14% |████▋                           | 204kB 36.2MB/s eta 0:00:01\r\u001b[K    15% |████▉                           | 215kB 8.5MB/s eta 0:00:01\r\u001b[K    15% |█████                           | 225kB 8.6MB/s eta 0:00:01\r\u001b[K    16% |█████▎                          | 235kB 8.7MB/s eta 0:00:01\r\u001b[K    17% |█████▌                          | 245kB 8.7MB/s eta 0:00:01\r\u001b[K    17% |█████▊                          | 256kB 8.6MB/s eta 0:00:01\r\u001b[K    18% |██████                          | 266kB 8.4MB/s eta 0:00:01\r\u001b[K    19% |██████▏                         | 276kB 8.4MB/s eta 0:00:01\r\u001b[K    20% |██████▍                         | 286kB 8.4MB/s eta 0:00:01\r\u001b[K    20% |██████▋                         | 296kB 8.4MB/s eta 0:00:01\r\u001b[K    21% |██████▉                         | 307kB 8.6MB/s eta 0:00:01\r\u001b[K    22% |███████                         | 317kB 38.1MB/s eta 0:00:01\r\u001b[K    22% |███████▎                        | 327kB 37.9MB/s eta 0:00:01\r\u001b[K    23% |███████▌                        | 337kB 38.6MB/s eta 0:00:01\r\u001b[K    24% |███████▉                        | 348kB 35.8MB/s eta 0:00:01\r\u001b[K    25% |████████                        | 358kB 36.0MB/s eta 0:00:01\r\u001b[K    25% |████████▎                       | 368kB 42.5MB/s eta 0:00:01\r\u001b[K    26% |████████▌                       | 378kB 42.5MB/s eta 0:00:01\r\u001b[K    27% |████████▊                       | 389kB 42.9MB/s eta 0:00:01\r\u001b[K    27% |█████████                       | 399kB 10.2MB/s eta 0:00:01\r\u001b[K    28% |█████████▏                      | 409kB 10.1MB/s eta 0:00:01\r\u001b[K    29% |█████████▍                      | 419kB 10.1MB/s eta 0:00:01\r\u001b[K    30% |█████████▋                      | 430kB 10.1MB/s eta 0:00:01\r\u001b[K    30% |█████████▉                      | 440kB 10.0MB/s eta 0:00:01\r\u001b[K    31% |██████████                      | 450kB 10.2MB/s eta 0:00:01\r\u001b[K    32% |██████████▎                     | 460kB 10.1MB/s eta 0:00:01\r\u001b[K    32% |██████████▌                     | 471kB 10.2MB/s eta 0:00:01\r\u001b[K    33% |██████████▊                     | 481kB 10.2MB/s eta 0:00:01\r\u001b[K    34% |███████████                     | 491kB 10.2MB/s eta 0:00:01\r\u001b[K    35% |███████████▏                    | 501kB 43.7MB/s eta 0:00:01\r\u001b[K    35% |███████████▍                    | 512kB 41.9MB/s eta 0:00:01\r\u001b[K    36% |███████████▊                    | 522kB 42.5MB/s eta 0:00:01\r\u001b[K    37% |████████████                    | 532kB 43.7MB/s eta 0:00:01\r\u001b[K    37% |████████████▏                   | 542kB 44.0MB/s eta 0:00:01\r\u001b[K    38% |████████████▍                   | 552kB 46.3MB/s eta 0:00:01\r\u001b[K    39% |████████████▋                   | 563kB 46.8MB/s eta 0:00:01\r\u001b[K    40% |████████████▉                   | 573kB 45.2MB/s eta 0:00:01\r\u001b[K    40% |█████████████                   | 583kB 45.6MB/s eta 0:00:01\r\u001b[K    41% |█████████████▎                  | 593kB 45.0MB/s eta 0:00:01\r\u001b[K    42% |█████████████▌                  | 604kB 45.0MB/s eta 0:00:01\r\u001b[K    42% |█████████████▊                  | 614kB 48.3MB/s eta 0:00:01\r\u001b[K    43% |██████████████                  | 624kB 47.7MB/s eta 0:00:01\r\u001b[K    44% |██████████████▏                 | 634kB 48.0MB/s eta 0:00:01\r\u001b[K    45% |██████████████▍                 | 645kB 11.3MB/s eta 0:00:01\r\u001b[K    45% |██████████████▋                 | 655kB 11.2MB/s eta 0:00:01\r\u001b[K    46% |██████████████▉                 | 665kB 10.5MB/s eta 0:00:01\r\u001b[K    47% |███████████████                 | 675kB 10.5MB/s eta 0:00:01\r\u001b[K    47% |███████████████▎                | 686kB 10.5MB/s eta 0:00:01\r\u001b[K    48% |███████████████▋                | 696kB 10.5MB/s eta 0:00:01\r\u001b[K    49% |███████████████▉                | 706kB 10.5MB/s eta 0:00:01\r\u001b[K    50% |████████████████                | 716kB 10.4MB/s eta 0:00:01\r\u001b[K    50% |████████████████▎               | 727kB 10.4MB/s eta 0:00:01\r\u001b[K    51% |████████████████▌               | 737kB 10.3MB/s eta 0:00:01\r\u001b[K    52% |████████████████▊               | 747kB 34.3MB/s eta 0:00:01\r\u001b[K    52% |█████████████████               | 757kB 35.2MB/s eta 0:00:01\r\u001b[K    53% |█████████████████▏              | 768kB 45.3MB/s eta 0:00:01\r\u001b[K    54% |█████████████████▍              | 778kB 45.3MB/s eta 0:00:01\r\u001b[K    55% |█████████████████▋              | 788kB 45.1MB/s eta 0:00:01\r\u001b[K    55% |█████████████████▉              | 798kB 43.4MB/s eta 0:00:01\r\u001b[K    56% |██████████████████              | 808kB 44.5MB/s eta 0:00:01\r\u001b[K    57% |██████████████████▎             | 819kB 44.9MB/s eta 0:00:01\r\u001b[K    57% |██████████████████▌             | 829kB 46.4MB/s eta 0:00:01\r\u001b[K    58% |██████████████████▊             | 839kB 46.7MB/s eta 0:00:01\r\u001b[K    59% |███████████████████             | 849kB 46.4MB/s eta 0:00:01\r\u001b[K    60% |███████████████████▏            | 860kB 43.5MB/s eta 0:00:01\r\u001b[K    60% |███████████████████▌            | 870kB 43.3MB/s eta 0:00:01\r\u001b[K    61% |███████████████████▊            | 880kB 44.3MB/s eta 0:00:01\r\u001b[K    62% |████████████████████            | 890kB 43.8MB/s eta 0:00:01\r\u001b[K    62% |████████████████████▏           | 901kB 45.2MB/s eta 0:00:01\r\u001b[K    63% |████████████████████▍           | 911kB 45.2MB/s eta 0:00:01\r\u001b[K    64% |████████████████████▋           | 921kB 46.0MB/s eta 0:00:01\r\u001b[K    65% |████████████████████▉           | 931kB 46.2MB/s eta 0:00:01\r\u001b[K    65% |█████████████████████           | 942kB 45.7MB/s eta 0:00:01\r\u001b[K    66% |█████████████████████▎          | 952kB 45.9MB/s eta 0:00:01\r\u001b[K    67% |█████████████████████▌          | 962kB 50.1MB/s eta 0:00:01\r\u001b[K    67% |█████████████████████▊          | 972kB 50.1MB/s eta 0:00:01\r\u001b[K    68% |██████████████████████          | 983kB 49.4MB/s eta 0:00:01\r\u001b[K    69% |██████████████████████▏         | 993kB 50.6MB/s eta 0:00:01\r\u001b[K    70% |██████████████████████▍         | 1.0MB 51.2MB/s eta 0:00:01\r\u001b[K    70% |██████████████████████▋         | 1.0MB 51.4MB/s eta 0:00:01\r\u001b[K    71% |██████████████████████▉         | 1.0MB 51.1MB/s eta 0:00:01\r\u001b[K    72% |███████████████████████▏        | 1.0MB 50.0MB/s eta 0:00:01\r\u001b[K    72% |███████████████████████▍        | 1.0MB 50.8MB/s eta 0:00:01\r\u001b[K    73% |███████████████████████▋        | 1.1MB 50.9MB/s eta 0:00:01\r\u001b[K    74% |███████████████████████▉        | 1.1MB 50.3MB/s eta 0:00:01\r\u001b[K    75% |████████████████████████        | 1.1MB 50.6MB/s eta 0:00:01\r\u001b[K    75% |████████████████████████▎       | 1.1MB 50.2MB/s eta 0:00:01\r\u001b[K    76% |████████████████████████▌       | 1.1MB 42.4MB/s eta 0:00:01\r\u001b[K    77% |████████████████████████▊       | 1.1MB 26.4MB/s eta 0:00:01\r\u001b[K    77% |█████████████████████████       | 1.1MB 25.9MB/s eta 0:00:01\r\u001b[K    78% |█████████████████████████▏      | 1.1MB 25.9MB/s eta 0:00:01\r\u001b[K    79% |█████████████████████████▍      | 1.1MB 26.0MB/s eta 0:00:01\r\u001b[K    80% |█████████████████████████▋      | 1.1MB 25.7MB/s eta 0:00:01\r\u001b[K    80% |█████████████████████████▉      | 1.2MB 25.7MB/s eta 0:00:01\r\u001b[K    81% |██████████████████████████      | 1.2MB 25.7MB/s eta 0:00:01\r\u001b[K    82% |██████████████████████████▎     | 1.2MB 25.7MB/s eta 0:00:01\r\u001b[K    82% |██████████████████████████▌     | 1.2MB 25.7MB/s eta 0:00:01\r\u001b[K    83% |██████████████████████████▊     | 1.2MB 28.1MB/s eta 0:00:01\r\u001b[K    84% |███████████████████████████     | 1.2MB 47.2MB/s eta 0:00:01\r\u001b[K    85% |███████████████████████████▎    | 1.2MB 48.3MB/s eta 0:00:01\r\u001b[K    85% |███████████████████████████▌    | 1.2MB 48.0MB/s eta 0:00:01\r\u001b[K    86% |███████████████████████████▊    | 1.2MB 47.6MB/s eta 0:00:01\r\u001b[K    87% |████████████████████████████    | 1.2MB 48.5MB/s eta 0:00:01\r\u001b[K    87% |████████████████████████████▏   | 1.3MB 48.0MB/s eta 0:00:01\r\u001b[K    88% |████████████████████████████▍   | 1.3MB 48.6MB/s eta 0:00:01\r\u001b[K    89% |████████████████████████████▋   | 1.3MB 48.2MB/s eta 0:00:01\r\u001b[K    90% |████████████████████████████▉   | 1.3MB 47.9MB/s eta 0:00:01\r\u001b[K    90% |█████████████████████████████   | 1.3MB 48.6MB/s eta 0:00:01\r\u001b[K    91% |█████████████████████████████▎  | 1.3MB 47.5MB/s eta 0:00:01\r\u001b[K    92% |█████████████████████████████▌  | 1.3MB 48.4MB/s eta 0:00:01\r\u001b[K    92% |█████████████████████████████▊  | 1.3MB 48.5MB/s eta 0:00:01\r\u001b[K    93% |██████████████████████████████  | 1.3MB 49.0MB/s eta 0:00:01\r\u001b[K    94% |██████████████████████████████▏ | 1.4MB 49.1MB/s eta 0:00:01\r\u001b[K    95% |██████████████████████████████▍ | 1.4MB 48.6MB/s eta 0:00:01\r\u001b[K    95% |██████████████████████████████▋ | 1.4MB 48.9MB/s eta 0:00:01\r\u001b[K    96% |███████████████████████████████ | 1.4MB 48.6MB/s eta 0:00:01\r\u001b[K    97% |███████████████████████████████▏| 1.4MB 48.8MB/s eta 0:00:01\r\u001b[K    97% |███████████████████████████████▍| 1.4MB 33.6MB/s eta 0:00:01\r\u001b[K    98% |███████████████████████████████▋| 1.4MB 33.6MB/s eta 0:00:01\r\u001b[K    99% |███████████████████████████████▉| 1.4MB 33.8MB/s eta 0:00:01\r\u001b[K    100% |████████████████████████████████| 1.4MB 15.1MB/s \n",
            "\u001b[?25hRequirement already satisfied, skipping upgrade: six in /usr/local/lib/python3.6/dist-packages (from nltk) (1.11.0)\n",
            "Collecting singledispatch (from nltk)\n",
            "  Downloading https://files.pythonhosted.org/packages/c5/10/369f50bcd4621b263927b0a1519987a04383d4a98fb10438042ad410cf88/singledispatch-3.4.0.3-py2.py3-none-any.whl\n",
            "Building wheels for collected packages: nltk\n",
            "  Running setup.py bdist_wheel for nltk ... \u001b[?25l-\b \b\\\b \b|\b \b/\b \b-\b \b\\\b \bdone\n",
            "\u001b[?25h  Stored in directory: /root/.cache/pip/wheels/4b/c8/24/b2343664bcceb7147efeb21c0b23703a05b23fcfeaceaa2a1e\n",
            "Successfully built nltk\n",
            "Installing collected packages: singledispatch, nltk\n",
            "  Found existing installation: nltk 3.2.5\n",
            "    Uninstalling nltk-3.2.5:\n",
            "      Successfully uninstalled nltk-3.2.5\n",
            "Successfully installed nltk-3.4 singledispatch-3.4.0.3\n"
          ],
          "name": "stdout"
        }
      ]
    },
    {
      "metadata": {
        "id": "h8OgSbxget8p",
        "colab_type": "code",
        "colab": {
          "base_uri": "https://localhost:8080/",
          "height": 6307
        },
        "outputId": "cd0f17e7-d543-4c70-d6e9-d4f69195f58c"
      },
      "cell_type": "code",
      "source": [
        "nltk.download()"
      ],
      "execution_count": 140,
      "outputs": [
        {
          "output_type": "stream",
          "text": [
            "NLTK Downloader\n",
            "---------------------------------------------------------------------------\n",
            "    d) Download   l) List    u) Update   c) Config   h) Help   q) Quit\n",
            "---------------------------------------------------------------------------\n",
            "Downloader> d)\n",
            "Command 'd)' unrecognized\n",
            "\n",
            "---------------------------------------------------------------------------\n",
            "    d) Download   l) List    u) Update   c) Config   h) Help   q) Quit\n",
            "---------------------------------------------------------------------------\n",
            "Downloader> d\n",
            "\n",
            "Download which package (l=list; x=cancel)?\n",
            "  Identifier> l\n",
            "Packages:\n",
            "  [ ] abc................. Australian Broadcasting Commission 2006\n",
            "  [ ] alpino.............. Alpino Dutch Treebank\n",
            "  [ ] averaged_perceptron_tagger Averaged Perceptron Tagger\n",
            "  [ ] averaged_perceptron_tagger_ru Averaged Perceptron Tagger (Russian)\n",
            "  [ ] basque_grammars..... Grammars for Basque\n",
            "  [ ] biocreative_ppi..... BioCreAtIvE (Critical Assessment of Information\n",
            "                           Extraction Systems in Biology)\n",
            "  [ ] bllip_wsj_no_aux.... BLLIP Parser: WSJ Model\n",
            "  [ ] book_grammars....... Grammars from NLTK Book\n",
            "  [ ] brown............... Brown Corpus\n",
            "  [ ] brown_tei........... Brown Corpus (TEI XML Version)\n",
            "  [ ] cess_cat............ CESS-CAT Treebank\n",
            "  [ ] cess_esp............ CESS-ESP Treebank\n",
            "  [ ] chat80.............. Chat-80 Data Files\n",
            "  [ ] city_database....... City Database\n",
            "  [ ] cmudict............. The Carnegie Mellon Pronouncing Dictionary (0.6)\n",
            "  [ ] comparative_sentences Comparative Sentence Dataset\n",
            "  [ ] comtrans............ ComTrans Corpus Sample\n",
            "  [ ] conll2000........... CONLL 2000 Chunking Corpus\n",
            "  [ ] conll2002........... CONLL 2002 Named Entity Recognition Corpus\n",
            "Hit Enter to continue: \n",
            "  [ ] conll2007........... Dependency Treebanks from CoNLL 2007 (Catalan\n",
            "                           and Basque Subset)\n",
            "  [ ] crubadan............ Crubadan Corpus\n",
            "  [ ] dependency_treebank. Dependency Parsed Treebank\n",
            "  [ ] dolch............... Dolch Word List\n",
            "  [ ] europarl_raw........ Sample European Parliament Proceedings Parallel\n",
            "                           Corpus\n",
            "  [ ] floresta............ Portuguese Treebank\n",
            "  [ ] framenet_v15........ FrameNet 1.5\n",
            "  [ ] framenet_v17........ FrameNet 1.7\n",
            "  [ ] gazetteers.......... Gazeteer Lists\n",
            "  [ ] genesis............. Genesis Corpus\n",
            "  [ ] gutenberg........... Project Gutenberg Selections\n",
            "  [ ] ieer................ NIST IE-ER DATA SAMPLE\n",
            "  [ ] inaugural........... C-Span Inaugural Address Corpus\n",
            "  [ ] indian.............. Indian Language POS-Tagged Corpus\n",
            "  [ ] jeita............... JEITA Public Morphologically Tagged Corpus (in\n",
            "                           ChaSen format)\n",
            "  [ ] kimmo............... PC-KIMMO Data Files\n",
            "  [ ] knbc................ KNB Corpus (Annotated blog corpus)\n",
            "  [ ] large_grammars...... Large context-free and feature-based grammars\n",
            "                           for parser comparison\n",
            "Hit Enter to continue: \n",
            "  [ ] lin_thesaurus....... Lin's Dependency Thesaurus\n",
            "  [ ] mac_morpho.......... MAC-MORPHO: Brazilian Portuguese news text with\n",
            "                           part-of-speech tags\n",
            "  [ ] machado............. Machado de Assis -- Obra Completa\n",
            "  [ ] masc_tagged......... MASC Tagged Corpus\n",
            "  [ ] maxent_ne_chunker... ACE Named Entity Chunker (Maximum entropy)\n",
            "  [ ] maxent_treebank_pos_tagger Treebank Part of Speech Tagger (Maximum entropy)\n",
            "  [ ] moses_sample........ Moses Sample Models\n",
            "  [ ] movie_reviews....... Sentiment Polarity Dataset Version 2.0\n",
            "  [ ] mte_teip5........... MULTEXT-East 1984 annotated corpus 4.0\n",
            "  [ ] mwa_ppdb............ The monolingual word aligner (Sultan et al.\n",
            "                           2015) subset of the Paraphrase Database.\n",
            "  [ ] names............... Names Corpus, Version 1.3 (1994-03-29)\n",
            "  [ ] nombank.1.0......... NomBank Corpus 1.0\n",
            "  [ ] nonbreaking_prefixes Non-Breaking Prefixes (Moses Decoder)\n",
            "  [ ] nps_chat............ NPS Chat\n",
            "  [ ] omw................. Open Multilingual Wordnet\n",
            "  [ ] opinion_lexicon..... Opinion Lexicon\n",
            "  [ ] panlex_swadesh...... PanLex Swadesh Corpora\n",
            "  [ ] paradigms........... Paradigm Corpus\n",
            "  [ ] pe08................ Cross-Framework and Cross-Domain Parser\n",
            "                           Evaluation Shared Task\n",
            "Hit Enter to continue: \n",
            "  [ ] perluniprops........ perluniprops: Index of Unicode Version 7.0.0\n",
            "                           character properties in Perl\n",
            "  [ ] pil................. The Patient Information Leaflet (PIL) Corpus\n",
            "  [ ] pl196x.............. Polish language of the XX century sixties\n",
            "  [ ] porter_test......... Porter Stemmer Test Files\n",
            "  [ ] ppattach............ Prepositional Phrase Attachment Corpus\n",
            "  [ ] problem_reports..... Problem Report Corpus\n",
            "  [ ] product_reviews_1... Product Reviews (5 Products)\n",
            "  [ ] product_reviews_2... Product Reviews (9 Products)\n",
            "  [ ] propbank............ Proposition Bank Corpus 1.0\n",
            "  [ ] pros_cons........... Pros and Cons\n",
            "  [ ] ptb................. Penn Treebank\n",
            "  [ ] punkt............... Punkt Tokenizer Models\n",
            "  [ ] qc.................. Experimental Data for Question Classification\n",
            "  [ ] reuters............. The Reuters-21578 benchmark corpus, ApteMod\n",
            "                           version\n",
            "  [ ] rslp................ RSLP Stemmer (Removedor de Sufixos da Lingua\n",
            "                           Portuguesa)\n",
            "  [ ] rte................. PASCAL RTE Challenges 1, 2, and 3\n",
            "  [ ] sample_grammars..... Sample Grammars\n",
            "  [ ] semcor.............. SemCor 3.0\n",
            "Hit Enter to continue: \n",
            "  [ ] senseval............ SENSEVAL 2 Corpus: Sense Tagged Text\n",
            "  [ ] sentence_polarity... Sentence Polarity Dataset v1.0\n",
            "  [ ] sentiwordnet........ SentiWordNet\n",
            "  [ ] shakespeare......... Shakespeare XML Corpus Sample\n",
            "  [ ] sinica_treebank..... Sinica Treebank Corpus Sample\n",
            "  [ ] smultron............ SMULTRON Corpus Sample\n",
            "  [ ] snowball_data....... Snowball Data\n",
            "  [ ] spanish_grammars.... Grammars for Spanish\n",
            "  [ ] state_union......... C-Span State of the Union Address Corpus\n",
            "  [ ] stopwords........... Stopwords Corpus\n",
            "  [ ] subjectivity........ Subjectivity Dataset v1.0\n",
            "  [ ] swadesh............. Swadesh Wordlists\n",
            "  [ ] switchboard......... Switchboard Corpus Sample\n",
            "  [ ] tagsets............. Help on Tagsets\n",
            "  [ ] timit............... TIMIT Corpus Sample\n",
            "  [ ] toolbox............. Toolbox Sample Files\n",
            "  [ ] treebank............ Penn Treebank Sample\n",
            "  [ ] twitter_samples..... Twitter Samples\n",
            "  [ ] udhr2............... Universal Declaration of Human Rights Corpus\n",
            "                           (Unicode Version)\n",
            "  [ ] udhr................ Universal Declaration of Human Rights Corpus\n",
            "Hit Enter to continue: \n",
            "  [ ] unicode_samples..... Unicode Samples\n",
            "  [ ] universal_tagset.... Mappings to the Universal Part-of-Speech Tagset\n",
            "  [ ] universal_treebanks_v20 Universal Treebanks Version 2.0\n",
            "  [ ] vader_lexicon....... VADER Sentiment Lexicon\n",
            "  [ ] verbnet3............ VerbNet Lexicon, Version 3.3\n",
            "  [ ] verbnet............. VerbNet Lexicon, Version 2.1\n",
            "  [ ] webtext............. Web Text Corpus\n",
            "  [ ] wmt15_eval.......... Evaluation data from WMT15\n",
            "  [ ] word2vec_sample..... Word2Vec Sample\n",
            "  [ ] wordnet............. WordNet\n",
            "  [ ] wordnet_ic.......... WordNet-InfoContent\n",
            "  [ ] words............... Word Lists\n",
            "  [ ] ycoe................ York-Toronto-Helsinki Parsed Corpus of Old\n",
            "                           English Prose\n",
            "\n",
            "Collections:\n",
            "  [ ] all-corpora......... All the corpora\n",
            "  [ ] all-nltk............ All packages available on nltk_data gh-pages\n",
            "                           branch\n",
            "  [ ] all................. All packages\n",
            "  [ ] book................ Everything used in the NLTK Book\n",
            "  [ ] popular............. Popular packages\n",
            "Hit Enter to continue: \n",
            "  [ ] tests............... Packages for running tests\n",
            "  [ ] third-party......... Third-party data packages\n",
            "\n",
            "([*] marks installed packages)\n",
            "\n",
            "Download which package (l=list; x=cancel)?\n",
            "  Identifier> all\n",
            "    Downloading collection 'all'\n",
            "       | \n",
            "       | Downloading package abc to /root/nltk_data...\n",
            "       |   Unzipping corpora/abc.zip.\n",
            "       | Downloading package alpino to /root/nltk_data...\n",
            "       |   Unzipping corpora/alpino.zip.\n",
            "       | Downloading package biocreative_ppi to /root/nltk_data...\n",
            "       |   Unzipping corpora/biocreative_ppi.zip.\n",
            "       | Downloading package brown to /root/nltk_data...\n",
            "       |   Unzipping corpora/brown.zip.\n",
            "       | Downloading package brown_tei to /root/nltk_data...\n",
            "       |   Unzipping corpora/brown_tei.zip.\n",
            "       | Downloading package cess_cat to /root/nltk_data...\n",
            "       |   Unzipping corpora/cess_cat.zip.\n",
            "       | Downloading package cess_esp to /root/nltk_data...\n",
            "       |   Unzipping corpora/cess_esp.zip.\n",
            "       | Downloading package chat80 to /root/nltk_data...\n",
            "       |   Unzipping corpora/chat80.zip.\n",
            "       | Downloading package city_database to /root/nltk_data...\n",
            "       |   Unzipping corpora/city_database.zip.\n",
            "       | Downloading package cmudict to /root/nltk_data...\n",
            "       |   Unzipping corpora/cmudict.zip.\n",
            "       | Downloading package comparative_sentences to\n",
            "       |     /root/nltk_data...\n",
            "       |   Unzipping corpora/comparative_sentences.zip.\n",
            "       | Downloading package comtrans to /root/nltk_data...\n",
            "       | Downloading package conll2000 to /root/nltk_data...\n",
            "       |   Unzipping corpora/conll2000.zip.\n",
            "       | Downloading package conll2002 to /root/nltk_data...\n",
            "       |   Unzipping corpora/conll2002.zip.\n",
            "       | Downloading package conll2007 to /root/nltk_data...\n",
            "       | Downloading package crubadan to /root/nltk_data...\n",
            "       |   Unzipping corpora/crubadan.zip.\n",
            "       | Downloading package dependency_treebank to /root/nltk_data...\n",
            "       |   Unzipping corpora/dependency_treebank.zip.\n",
            "       | Downloading package dolch to /root/nltk_data...\n",
            "       |   Unzipping corpora/dolch.zip.\n",
            "       | Downloading package europarl_raw to /root/nltk_data...\n",
            "       |   Unzipping corpora/europarl_raw.zip.\n",
            "       | Downloading package floresta to /root/nltk_data...\n",
            "       |   Unzipping corpora/floresta.zip.\n",
            "       | Downloading package framenet_v15 to /root/nltk_data...\n",
            "       |   Unzipping corpora/framenet_v15.zip.\n",
            "       | Downloading package framenet_v17 to /root/nltk_data...\n",
            "       |   Unzipping corpora/framenet_v17.zip.\n",
            "       | Downloading package gazetteers to /root/nltk_data...\n",
            "       |   Unzipping corpora/gazetteers.zip.\n",
            "       | Downloading package genesis to /root/nltk_data...\n",
            "       |   Unzipping corpora/genesis.zip.\n",
            "       | Downloading package gutenberg to /root/nltk_data...\n",
            "       |   Unzipping corpora/gutenberg.zip.\n",
            "       | Downloading package ieer to /root/nltk_data...\n",
            "       |   Unzipping corpora/ieer.zip.\n",
            "       | Downloading package inaugural to /root/nltk_data...\n",
            "       |   Unzipping corpora/inaugural.zip.\n",
            "       | Downloading package indian to /root/nltk_data...\n",
            "       |   Unzipping corpora/indian.zip.\n",
            "       | Downloading package jeita to /root/nltk_data...\n",
            "       | Downloading package kimmo to /root/nltk_data...\n",
            "       |   Unzipping corpora/kimmo.zip.\n",
            "       | Downloading package knbc to /root/nltk_data...\n",
            "       | Downloading package lin_thesaurus to /root/nltk_data...\n",
            "       |   Unzipping corpora/lin_thesaurus.zip.\n",
            "       | Downloading package mac_morpho to /root/nltk_data...\n",
            "       |   Unzipping corpora/mac_morpho.zip.\n",
            "       | Downloading package machado to /root/nltk_data...\n",
            "       | Downloading package masc_tagged to /root/nltk_data...\n",
            "       | Downloading package moses_sample to /root/nltk_data...\n",
            "       |   Unzipping models/moses_sample.zip.\n",
            "       | Downloading package movie_reviews to /root/nltk_data...\n",
            "       |   Unzipping corpora/movie_reviews.zip.\n",
            "       | Downloading package names to /root/nltk_data...\n",
            "       |   Unzipping corpora/names.zip.\n",
            "       | Downloading package nombank.1.0 to /root/nltk_data...\n",
            "       | Downloading package nps_chat to /root/nltk_data...\n",
            "       |   Unzipping corpora/nps_chat.zip.\n",
            "       | Downloading package omw to /root/nltk_data...\n",
            "       |   Unzipping corpora/omw.zip.\n",
            "       | Downloading package opinion_lexicon to /root/nltk_data...\n",
            "       |   Unzipping corpora/opinion_lexicon.zip.\n",
            "       | Downloading package paradigms to /root/nltk_data...\n",
            "       |   Unzipping corpora/paradigms.zip.\n",
            "       | Downloading package pil to /root/nltk_data...\n",
            "       |   Unzipping corpora/pil.zip.\n",
            "       | Downloading package pl196x to /root/nltk_data...\n",
            "       |   Unzipping corpora/pl196x.zip.\n",
            "       | Downloading package ppattach to /root/nltk_data...\n",
            "       |   Unzipping corpora/ppattach.zip.\n",
            "       | Downloading package problem_reports to /root/nltk_data...\n",
            "       |   Unzipping corpora/problem_reports.zip.\n",
            "       | Downloading package propbank to /root/nltk_data...\n",
            "       | Downloading package ptb to /root/nltk_data...\n",
            "       |   Unzipping corpora/ptb.zip.\n",
            "       | Downloading package product_reviews_1 to /root/nltk_data...\n",
            "       |   Unzipping corpora/product_reviews_1.zip.\n",
            "       | Downloading package product_reviews_2 to /root/nltk_data...\n",
            "       |   Unzipping corpora/product_reviews_2.zip.\n",
            "       | Downloading package pros_cons to /root/nltk_data...\n",
            "       |   Unzipping corpora/pros_cons.zip.\n",
            "       | Downloading package qc to /root/nltk_data...\n",
            "       |   Unzipping corpora/qc.zip.\n",
            "       | Downloading package reuters to /root/nltk_data...\n",
            "       | Downloading package rte to /root/nltk_data...\n",
            "       |   Unzipping corpora/rte.zip.\n",
            "       | Downloading package semcor to /root/nltk_data...\n",
            "       | Downloading package senseval to /root/nltk_data...\n",
            "       |   Unzipping corpora/senseval.zip.\n",
            "       | Downloading package sentiwordnet to /root/nltk_data...\n",
            "       |   Unzipping corpora/sentiwordnet.zip.\n",
            "       | Downloading package sentence_polarity to /root/nltk_data...\n",
            "       |   Unzipping corpora/sentence_polarity.zip.\n",
            "       | Downloading package shakespeare to /root/nltk_data...\n",
            "       |   Unzipping corpora/shakespeare.zip.\n",
            "       | Downloading package sinica_treebank to /root/nltk_data...\n",
            "       |   Unzipping corpora/sinica_treebank.zip.\n",
            "       | Downloading package smultron to /root/nltk_data...\n",
            "       |   Unzipping corpora/smultron.zip.\n",
            "       | Downloading package state_union to /root/nltk_data...\n",
            "       |   Unzipping corpora/state_union.zip.\n",
            "       | Downloading package stopwords to /root/nltk_data...\n",
            "       |   Unzipping corpora/stopwords.zip.\n",
            "       | Downloading package subjectivity to /root/nltk_data...\n",
            "       |   Unzipping corpora/subjectivity.zip.\n",
            "       | Downloading package swadesh to /root/nltk_data...\n",
            "       |   Unzipping corpora/swadesh.zip.\n",
            "       | Downloading package switchboard to /root/nltk_data...\n",
            "       |   Unzipping corpora/switchboard.zip.\n",
            "       | Downloading package timit to /root/nltk_data...\n",
            "       |   Unzipping corpora/timit.zip.\n",
            "       | Downloading package toolbox to /root/nltk_data...\n",
            "       |   Unzipping corpora/toolbox.zip.\n",
            "       | Downloading package treebank to /root/nltk_data...\n",
            "       |   Unzipping corpora/treebank.zip.\n",
            "       | Downloading package twitter_samples to /root/nltk_data...\n",
            "       |   Unzipping corpora/twitter_samples.zip.\n",
            "       | Downloading package udhr to /root/nltk_data...\n",
            "       |   Unzipping corpora/udhr.zip.\n",
            "       | Downloading package udhr2 to /root/nltk_data...\n",
            "       |   Unzipping corpora/udhr2.zip.\n",
            "       | Downloading package unicode_samples to /root/nltk_data...\n",
            "       |   Unzipping corpora/unicode_samples.zip.\n",
            "       | Downloading package universal_treebanks_v20 to\n",
            "       |     /root/nltk_data...\n",
            "       | Downloading package verbnet to /root/nltk_data...\n",
            "       |   Unzipping corpora/verbnet.zip.\n",
            "       | Downloading package verbnet3 to /root/nltk_data...\n",
            "       |   Unzipping corpora/verbnet3.zip.\n",
            "       | Downloading package webtext to /root/nltk_data...\n",
            "       |   Unzipping corpora/webtext.zip.\n",
            "       | Downloading package wordnet to /root/nltk_data...\n",
            "       |   Unzipping corpora/wordnet.zip.\n",
            "       | Downloading package wordnet_ic to /root/nltk_data...\n",
            "       |   Unzipping corpora/wordnet_ic.zip.\n",
            "       | Downloading package words to /root/nltk_data...\n",
            "       |   Unzipping corpora/words.zip.\n",
            "       | Downloading package ycoe to /root/nltk_data...\n",
            "       |   Unzipping corpora/ycoe.zip.\n",
            "       | Downloading package rslp to /root/nltk_data...\n",
            "       |   Unzipping stemmers/rslp.zip.\n",
            "       | Downloading package maxent_treebank_pos_tagger to\n",
            "       |     /root/nltk_data...\n",
            "       |   Unzipping taggers/maxent_treebank_pos_tagger.zip.\n",
            "       | Downloading package universal_tagset to /root/nltk_data...\n",
            "       |   Unzipping taggers/universal_tagset.zip.\n",
            "       | Downloading package maxent_ne_chunker to /root/nltk_data...\n",
            "       |   Unzipping chunkers/maxent_ne_chunker.zip.\n",
            "       | Downloading package punkt to /root/nltk_data...\n",
            "       |   Unzipping tokenizers/punkt.zip.\n",
            "       | Downloading package book_grammars to /root/nltk_data...\n",
            "       |   Unzipping grammars/book_grammars.zip.\n",
            "       | Downloading package sample_grammars to /root/nltk_data...\n",
            "       |   Unzipping grammars/sample_grammars.zip.\n",
            "       | Downloading package spanish_grammars to /root/nltk_data...\n",
            "       |   Unzipping grammars/spanish_grammars.zip.\n",
            "       | Downloading package basque_grammars to /root/nltk_data...\n",
            "       |   Unzipping grammars/basque_grammars.zip.\n",
            "       | Downloading package large_grammars to /root/nltk_data...\n",
            "       |   Unzipping grammars/large_grammars.zip.\n",
            "       | Downloading package tagsets to /root/nltk_data...\n",
            "       |   Unzipping help/tagsets.zip.\n",
            "       | Downloading package snowball_data to /root/nltk_data...\n",
            "       | Downloading package bllip_wsj_no_aux to /root/nltk_data...\n",
            "       |   Unzipping models/bllip_wsj_no_aux.zip.\n",
            "       | Downloading package word2vec_sample to /root/nltk_data...\n",
            "       |   Unzipping models/word2vec_sample.zip.\n",
            "       | Downloading package panlex_swadesh to /root/nltk_data...\n",
            "       | Downloading package mte_teip5 to /root/nltk_data...\n",
            "       |   Unzipping corpora/mte_teip5.zip.\n",
            "       | Downloading package averaged_perceptron_tagger to\n",
            "       |     /root/nltk_data...\n",
            "       |   Unzipping taggers/averaged_perceptron_tagger.zip.\n",
            "       | Downloading package averaged_perceptron_tagger_ru to\n",
            "       |     /root/nltk_data...\n",
            "       |   Unzipping taggers/averaged_perceptron_tagger_ru.zip.\n",
            "       | Downloading package perluniprops to /root/nltk_data...\n",
            "       |   Unzipping misc/perluniprops.zip.\n",
            "       | Downloading package nonbreaking_prefixes to\n",
            "       |     /root/nltk_data...\n",
            "       |   Unzipping corpora/nonbreaking_prefixes.zip.\n",
            "       | Downloading package vader_lexicon to /root/nltk_data...\n",
            "       | Downloading package porter_test to /root/nltk_data...\n",
            "       |   Unzipping stemmers/porter_test.zip.\n",
            "       | Downloading package wmt15_eval to /root/nltk_data...\n",
            "       |   Unzipping models/wmt15_eval.zip.\n",
            "       | Downloading package mwa_ppdb to /root/nltk_data...\n",
            "       |   Unzipping misc/mwa_ppdb.zip.\n",
            "       | \n",
            "     Done downloading collection all\n",
            "\n",
            "---------------------------------------------------------------------------\n",
            "    d) Download   l) List    u) Update   c) Config   h) Help   q) Quit\n",
            "---------------------------------------------------------------------------\n",
            "Downloader> q\n"
          ],
          "name": "stdout"
        },
        {
          "output_type": "execute_result",
          "data": {
            "text/plain": [
              "True"
            ]
          },
          "metadata": {
            "tags": []
          },
          "execution_count": 140
        }
      ]
    },
    {
      "metadata": {
        "id": "M1W-vEJFbnXm",
        "colab_type": "code",
        "colab": {
          "base_uri": "https://localhost:8080/",
          "height": 306
        },
        "outputId": "2e430d80-f9fc-4b96-ebdd-94b513949dbd"
      },
      "cell_type": "code",
      "source": [
        "from nltk.sentiment.vader import SentimentIntensityAnalyzer as SIA\n",
        "\n",
        "sia = SIA()\n",
        "results = []\n",
        "\n",
        "for comment in sub_comments:\n",
        "    pol_score = sia.polarity_scores(comment)\n",
        "    pol_score['sub_comments'] = comment\n",
        "    results.append(pol_score)\n",
        "\n",
        "pprint(results[:3], width=100)"
      ],
      "execution_count": 142,
      "outputs": [
        {
          "output_type": "stream",
          "text": [
            "[{'compound': 0.0,\n",
            "  'neg': 0.0,\n",
            "  'neu': 1.0,\n",
            "  'pos': 0.0,\n",
            "  'sub_comments': 'something about '\n",
            "                  '[`https://mobile.abc.net.au/news/image/10669502-3x2-700x467.jpg`](https://mobile.abc.net.au/news/image/10669502-3x2-700x467.jpg) '\n",
            "                  \"this image doesn't look right.\"},\n",
            " {'compound': -0.661,\n",
            "  'neg': 0.389,\n",
            "  'neu': 0.494,\n",
            "  'pos': 0.117,\n",
            "  'sub_comments': '>Hmm, you have chosen to argue that \"death isn\\'t death\"?\\n\\nNo\\n\\n'},\n",
            " {'compound': 0.0,\n",
            "  'neg': 0.0,\n",
            "  'neu': 1.0,\n",
            "  'pos': 0.0,\n",
            "  'sub_comments': 'There was actually more volume today than most other days this year.'}]\n"
          ],
          "name": "stdout"
        }
      ]
    },
    {
      "metadata": {
        "id": "W3kRNQFfa3Ur",
        "colab_type": "code",
        "colab": {
          "base_uri": "https://localhost:8080/",
          "height": 204
        },
        "outputId": "4a2a5f69-d4a0-488a-8ece-a4b391c6ae3f"
      },
      "cell_type": "code",
      "source": [
        "sent = pd.DataFrame.from_records(results)\n",
        "sent.head()"
      ],
      "execution_count": 143,
      "outputs": [
        {
          "output_type": "execute_result",
          "data": {
            "text/html": [
              "<div>\n",
              "<style scoped>\n",
              "    .dataframe tbody tr th:only-of-type {\n",
              "        vertical-align: middle;\n",
              "    }\n",
              "\n",
              "    .dataframe tbody tr th {\n",
              "        vertical-align: top;\n",
              "    }\n",
              "\n",
              "    .dataframe thead th {\n",
              "        text-align: right;\n",
              "    }\n",
              "</style>\n",
              "<table border=\"1\" class=\"dataframe\">\n",
              "  <thead>\n",
              "    <tr style=\"text-align: right;\">\n",
              "      <th></th>\n",
              "      <th>compound</th>\n",
              "      <th>neg</th>\n",
              "      <th>neu</th>\n",
              "      <th>pos</th>\n",
              "      <th>sub_comments</th>\n",
              "    </tr>\n",
              "  </thead>\n",
              "  <tbody>\n",
              "    <tr>\n",
              "      <th>0</th>\n",
              "      <td>0.0000</td>\n",
              "      <td>0.000</td>\n",
              "      <td>1.000</td>\n",
              "      <td>0.000</td>\n",
              "      <td>something about [`https://mobile.abc.net.au/ne...</td>\n",
              "    </tr>\n",
              "    <tr>\n",
              "      <th>1</th>\n",
              "      <td>-0.6610</td>\n",
              "      <td>0.389</td>\n",
              "      <td>0.494</td>\n",
              "      <td>0.117</td>\n",
              "      <td>&gt;Hmm, you have chosen to argue that \"death isn...</td>\n",
              "    </tr>\n",
              "    <tr>\n",
              "      <th>2</th>\n",
              "      <td>0.0000</td>\n",
              "      <td>0.000</td>\n",
              "      <td>1.000</td>\n",
              "      <td>0.000</td>\n",
              "      <td>There was actually more volume today than most...</td>\n",
              "    </tr>\n",
              "    <tr>\n",
              "      <th>3</th>\n",
              "      <td>0.7425</td>\n",
              "      <td>0.073</td>\n",
              "      <td>0.706</td>\n",
              "      <td>0.221</td>\n",
              "      <td>Republicans and Democrats had bipartisan polic...</td>\n",
              "    </tr>\n",
              "    <tr>\n",
              "      <th>4</th>\n",
              "      <td>-0.5719</td>\n",
              "      <td>0.147</td>\n",
              "      <td>0.749</td>\n",
              "      <td>0.105</td>\n",
              "      <td>The problem is that ultimately its the POTUS t...</td>\n",
              "    </tr>\n",
              "  </tbody>\n",
              "</table>\n",
              "</div>"
            ],
            "text/plain": [
              "   compound    neg    neu    pos  \\\n",
              "0    0.0000  0.000  1.000  0.000   \n",
              "1   -0.6610  0.389  0.494  0.117   \n",
              "2    0.0000  0.000  1.000  0.000   \n",
              "3    0.7425  0.073  0.706  0.221   \n",
              "4   -0.5719  0.147  0.749  0.105   \n",
              "\n",
              "                                        sub_comments  \n",
              "0  something about [`https://mobile.abc.net.au/ne...  \n",
              "1  >Hmm, you have chosen to argue that \"death isn...  \n",
              "2  There was actually more volume today than most...  \n",
              "3  Republicans and Democrats had bipartisan polic...  \n",
              "4  The problem is that ultimately its the POTUS t...  "
            ]
          },
          "metadata": {
            "tags": []
          },
          "execution_count": 143
        }
      ]
    },
    {
      "metadata": {
        "id": "oY83hRcOg_No",
        "colab_type": "code",
        "colab": {
          "base_uri": "https://localhost:8080/",
          "height": 34
        },
        "outputId": "2a3174f6-c1a3-4970-e5a2-4def740ade46"
      },
      "cell_type": "code",
      "source": [
        "np.mean(sent['compound'])"
      ],
      "execution_count": 152,
      "outputs": [
        {
          "output_type": "execute_result",
          "data": {
            "text/plain": [
              "-0.016487168610816543"
            ]
          },
          "metadata": {
            "tags": []
          },
          "execution_count": 152
        }
      ]
    },
    {
      "metadata": {
        "id": "vc0eraCuhNWA",
        "colab_type": "code",
        "colab": {
          "base_uri": "https://localhost:8080/",
          "height": 34
        },
        "outputId": "62767e2e-6e3d-434e-b46d-347b384ab2c4"
      },
      "cell_type": "code",
      "source": [
        "np.min(sent['compound'])"
      ],
      "execution_count": 153,
      "outputs": [
        {
          "output_type": "execute_result",
          "data": {
            "text/plain": [
              "-0.9987"
            ]
          },
          "metadata": {
            "tags": []
          },
          "execution_count": 153
        }
      ]
    },
    {
      "metadata": {
        "id": "YafQt_bKhNYg",
        "colab_type": "code",
        "colab": {
          "base_uri": "https://localhost:8080/",
          "height": 34
        },
        "outputId": "3e93b677-4c2f-4aec-83d5-0182ab3c931e"
      },
      "cell_type": "code",
      "source": [
        "np.max(sent['compound'])"
      ],
      "execution_count": 154,
      "outputs": [
        {
          "output_type": "execute_result",
          "data": {
            "text/plain": [
              "0.973"
            ]
          },
          "metadata": {
            "tags": []
          },
          "execution_count": 154
        }
      ]
    },
    {
      "metadata": {
        "id": "uM-prZQGa3ZH",
        "colab_type": "code",
        "colab": {
          "base_uri": "https://localhost:8080/",
          "height": 204
        },
        "outputId": "d2de62a7-984a-4518-b11e-97730400d6b8"
      },
      "cell_type": "code",
      "source": [
        "sent['label'] = 0\n",
        "sent.loc[sent['compound'] > 0.3, 'label'] = 1\n",
        "sent.loc[sent['compound'] < -0.3, 'label'] = -1\n",
        "sent.head()"
      ],
      "execution_count": 155,
      "outputs": [
        {
          "output_type": "execute_result",
          "data": {
            "text/html": [
              "<div>\n",
              "<style scoped>\n",
              "    .dataframe tbody tr th:only-of-type {\n",
              "        vertical-align: middle;\n",
              "    }\n",
              "\n",
              "    .dataframe tbody tr th {\n",
              "        vertical-align: top;\n",
              "    }\n",
              "\n",
              "    .dataframe thead th {\n",
              "        text-align: right;\n",
              "    }\n",
              "</style>\n",
              "<table border=\"1\" class=\"dataframe\">\n",
              "  <thead>\n",
              "    <tr style=\"text-align: right;\">\n",
              "      <th></th>\n",
              "      <th>compound</th>\n",
              "      <th>neg</th>\n",
              "      <th>neu</th>\n",
              "      <th>pos</th>\n",
              "      <th>sub_comments</th>\n",
              "      <th>label</th>\n",
              "    </tr>\n",
              "  </thead>\n",
              "  <tbody>\n",
              "    <tr>\n",
              "      <th>0</th>\n",
              "      <td>0.0000</td>\n",
              "      <td>0.000</td>\n",
              "      <td>1.000</td>\n",
              "      <td>0.000</td>\n",
              "      <td>something about [`https://mobile.abc.net.au/ne...</td>\n",
              "      <td>0</td>\n",
              "    </tr>\n",
              "    <tr>\n",
              "      <th>1</th>\n",
              "      <td>-0.6610</td>\n",
              "      <td>0.389</td>\n",
              "      <td>0.494</td>\n",
              "      <td>0.117</td>\n",
              "      <td>&gt;Hmm, you have chosen to argue that \"death isn...</td>\n",
              "      <td>-1</td>\n",
              "    </tr>\n",
              "    <tr>\n",
              "      <th>2</th>\n",
              "      <td>0.0000</td>\n",
              "      <td>0.000</td>\n",
              "      <td>1.000</td>\n",
              "      <td>0.000</td>\n",
              "      <td>There was actually more volume today than most...</td>\n",
              "      <td>0</td>\n",
              "    </tr>\n",
              "    <tr>\n",
              "      <th>3</th>\n",
              "      <td>0.7425</td>\n",
              "      <td>0.073</td>\n",
              "      <td>0.706</td>\n",
              "      <td>0.221</td>\n",
              "      <td>Republicans and Democrats had bipartisan polic...</td>\n",
              "      <td>1</td>\n",
              "    </tr>\n",
              "    <tr>\n",
              "      <th>4</th>\n",
              "      <td>-0.5719</td>\n",
              "      <td>0.147</td>\n",
              "      <td>0.749</td>\n",
              "      <td>0.105</td>\n",
              "      <td>The problem is that ultimately its the POTUS t...</td>\n",
              "      <td>-1</td>\n",
              "    </tr>\n",
              "  </tbody>\n",
              "</table>\n",
              "</div>"
            ],
            "text/plain": [
              "   compound    neg    neu    pos  \\\n",
              "0    0.0000  0.000  1.000  0.000   \n",
              "1   -0.6610  0.389  0.494  0.117   \n",
              "2    0.0000  0.000  1.000  0.000   \n",
              "3    0.7425  0.073  0.706  0.221   \n",
              "4   -0.5719  0.147  0.749  0.105   \n",
              "\n",
              "                                        sub_comments  label  \n",
              "0  something about [`https://mobile.abc.net.au/ne...      0  \n",
              "1  >Hmm, you have chosen to argue that \"death isn...     -1  \n",
              "2  There was actually more volume today than most...      0  \n",
              "3  Republicans and Democrats had bipartisan polic...      1  \n",
              "4  The problem is that ultimately its the POTUS t...     -1  "
            ]
          },
          "metadata": {
            "tags": []
          },
          "execution_count": 155
        }
      ]
    },
    {
      "metadata": {
        "id": "fZLNSSj_a3bq",
        "colab_type": "code",
        "colab": {}
      },
      "cell_type": "code",
      "source": [
        "# save to a csv file \n",
        "huh = sent[['sub_comments', 'label']]\n",
        "huh.to_csv('reddit_headlines_labels.csv', mode='a', encoding='utf-8', index=False)"
      ],
      "execution_count": 0,
      "outputs": []
    },
    {
      "metadata": {
        "id": "foGRBm7egY5a",
        "colab_type": "code",
        "colab": {
          "base_uri": "https://localhost:8080/",
          "height": 530
        },
        "outputId": "7314e265-f7ab-4a88-c6e9-e6482e16c175"
      },
      "cell_type": "code",
      "source": [
        "print(\"Positive comments:\\n\")\n",
        "pprint(list(sent[sent['label'] == 1].sub_comments)[:5], width=200)\n",
        "\n",
        "print(\"\\nNegative commments:\\n\")\n",
        "pprint(list(sent[sent['label'] == -1].sub_comments)[:5], width=200)"
      ],
      "execution_count": 158,
      "outputs": [
        {
          "output_type": "stream",
          "text": [
            "Positive comments:\n",
            "\n",
            "['Republicans and Democrats had bipartisan policy to pass in 2016 for 2017 so that our government could more easily control our narrative.  Both sides needed a boogie man and \"fake news\" fit the '\n",
            " 'bill perfectly.  ',\n",
            " \"Really? We need an article to validate it? Really?\\nShouldn't this be obvious?\",\n",
            " \"> It's a lack of critical thinking being taught in schools and universities thanks to a massive reduction in funding for humanities subjects.\\n\"\n",
            " '\\n'\n",
            " 'Eh, it\\'s a bit more than that.  The \"team first\" mentality is pervasive.  I see it exhibited even among folks I respect and who I view as sublimely critical thinkers.  \\n'\n",
            " \"There's an emotional response that some nurture in themselves.  Really taken all of the fun out of political discourse.  Especially on the Internet.  \",\n",
            " \"Dave Sirota wanted O'Rourke as Speaker of the House, AOC as whip, etc. Now he does nothing but tweet about Beto and whine about how he's just a freedom fighter who is obligated by duty to expose \"\n",
            " 'Beto\\'s likely accidental breach of an extremely ambiguous pledge about donations from \"executives\" (word not defined). ',\n",
            " 'Hahaha American politics is a sham. ']\n",
            "\n",
            "Negative commments:\n",
            "\n",
            "['>Hmm, you have chosen to argue that \"death isn\\'t death\"?\\n\\nNo\\n\\n',\n",
            " 'The problem is that ultimately its the POTUS that decides who gets a top secret security clearance or not. That is the problem, it should be taken out of the White House and put in an independent '\n",
            " 'agency to adjudicate. The reason a traitor like Kushner still has his clearance is because of this stupid system. ',\n",
            " 'Trump did not visit the troops at Christmastime when NBC published that article.  So fuck off, Breitbart alt-right.',\n",
            " 'Big difference between my mother and myself. She once punished me for not standing up to a bully when they were messing with my friend citing guilt by association. I took it to heart... She taught '\n",
            " 'me something that she refuses to take on herself. ',\n",
            " '\\\\*puts on tinfoil hat*\\n'\n",
            " '\\n'\n",
            " '#Pizzagate was orchestrated as a distraction to throw people off of the trail of the real underage sex-trafficking scandal in Washington DC. The perpetrators of this operation managed to get a '\n",
            " 'bunch of lunatics to spread the #Pizzagate conspiracy theory to discredit any *future* revelations regarding *actual* human trafficking an underage prostitution. While the lunatics waged their '\n",
            " 'internet campaign, the actual perpetrators were able to cover up their tracks and bury the story underneath all the \"fake news.\"\\n'\n",
            " '\\n'\n",
            " 'There probably *was* probably restaurant in DC that acted as a front for the trafficking operation that had a sex dungeon. Powerful people in both the Democratic and Republican party were probably '\n",
            " 'involved as well, including Clinton. There may be some \"half truths\" buried in the conspiracy theory, but its so absurd, that no reasonable person who even consider it to be true. ']\n"
          ],
          "name": "stdout"
        }
      ]
    },
    {
      "metadata": {
        "id": "1FAbvt7EgY7y",
        "colab_type": "code",
        "colab": {
          "base_uri": "https://localhost:8080/",
          "height": 54
        },
        "outputId": "0283d852-06eb-47aa-d844-9dd9636bfc06"
      },
      "cell_type": "code",
      "source": [
        "from nltk.tokenize import word_tokenize, RegexpTokenizer\n",
        "from nltk.corpus import stopwords\n",
        "tokenizer = RegexpTokenizer(r'\\w+')\n",
        "\n",
        "\n",
        "stop_words = stopwords.words('english')\n",
        "print(stop_words[:20])"
      ],
      "execution_count": 162,
      "outputs": [
        {
          "output_type": "stream",
          "text": [
            "['i', 'me', 'my', 'myself', 'we', 'our', 'ours', 'ourselves', 'you', \"you're\", \"you've\", \"you'll\", \"you'd\", 'your', 'yours', 'yourself', 'yourselves', 'he', 'him', 'his']\n"
          ],
          "name": "stdout"
        }
      ]
    },
    {
      "metadata": {
        "id": "EbcEptdOgY-M",
        "colab_type": "code",
        "colab": {}
      },
      "cell_type": "code",
      "source": [
        "def process_text(sub_comments):\n",
        "    tokens = []\n",
        "    for comment in sub_comments:\n",
        "        toks = tokenizer.tokenize(comment)\n",
        "        toks = [t.lower() for t in toks if t.lower() not in stop_words]\n",
        "        tokens.extend(toks)\n",
        "    \n",
        "    return tokens"
      ],
      "execution_count": 0,
      "outputs": []
    },
    {
      "metadata": {
        "id": "16s0NfOViSgG",
        "colab_type": "text"
      },
      "cell_type": "markdown",
      "source": [
        "**Positive words**"
      ]
    },
    {
      "metadata": {
        "id": "WNEtt5iLgZAp",
        "colab_type": "code",
        "colab": {
          "base_uri": "https://localhost:8080/",
          "height": 357
        },
        "outputId": "bc2246e4-d2cd-423a-f3ae-447a3c1074b6"
      },
      "cell_type": "code",
      "source": [
        "pos_lines = list(sent[sent.label == 1].sub_comments)\n",
        "\n",
        "pos_tokens = process_text(pos_lines)\n",
        "pos_freq = nltk.FreqDist(pos_tokens)\n",
        "\n",
        "pos_freq.most_common(20)"
      ],
      "execution_count": 163,
      "outputs": [
        {
          "output_type": "execute_result",
          "data": {
            "text/plain": [
              "[('like', 64),\n",
              " ('trump', 58),\n",
              " ('people', 52),\n",
              " ('politics', 32),\n",
              " ('would', 30),\n",
              " ('good', 26),\n",
              " ('one', 26),\n",
              " ('time', 26),\n",
              " ('r', 25),\n",
              " ('even', 24),\n",
              " ('https', 24),\n",
              " ('much', 24),\n",
              " ('think', 24),\n",
              " ('com', 23),\n",
              " ('get', 21),\n",
              " ('make', 21),\n",
              " ('know', 20),\n",
              " ('www', 18),\n",
              " ('better', 18),\n",
              " ('point', 18)]"
            ]
          },
          "metadata": {
            "tags": []
          },
          "execution_count": 163
        }
      ]
    },
    {
      "metadata": {
        "id": "uOJLT5WdiV5W",
        "colab_type": "text"
      },
      "cell_type": "markdown",
      "source": [
        "**Negative words**"
      ]
    },
    {
      "metadata": {
        "id": "7WtkvP3fgZDK",
        "colab_type": "code",
        "colab": {
          "base_uri": "https://localhost:8080/",
          "height": 357
        },
        "outputId": "cae2c365-8d42-4ddd-9aa8-e46a6c3972ab"
      },
      "cell_type": "code",
      "source": [
        "neg_lines = list(sent[sent.label == -1].sub_comments)\n",
        "\n",
        "neg_tokens = process_text(neg_lines)\n",
        "neg_freq = nltk.FreqDist(neg_tokens)\n",
        "\n",
        "neg_freq.most_common(20)"
      ],
      "execution_count": 165,
      "outputs": [
        {
          "output_type": "execute_result",
          "data": {
            "text/plain": [
              "[('trump', 91),\n",
              " ('people', 60),\n",
              " ('would', 56),\n",
              " ('like', 47),\n",
              " ('right', 34),\n",
              " ('politics', 31),\n",
              " ('shit', 31),\n",
              " ('even', 30),\n",
              " ('r', 30),\n",
              " ('want', 30),\n",
              " ('see', 29),\n",
              " ('us', 29),\n",
              " ('get', 28),\n",
              " ('death', 27),\n",
              " ('news', 27),\n",
              " ('one', 26),\n",
              " ('know', 25),\n",
              " ('think', 25),\n",
              " ('still', 24),\n",
              " ('war', 24)]"
            ]
          },
          "metadata": {
            "tags": []
          },
          "execution_count": 165
        }
      ]
    },
    {
      "metadata": {
        "id": "c6dsF5EygZFf",
        "colab_type": "code",
        "colab": {}
      },
      "cell_type": "code",
      "source": [
        ""
      ],
      "execution_count": 0,
      "outputs": []
    },
    {
      "metadata": {
        "id": "KDV7Ul3xiq_t",
        "colab_type": "text"
      },
      "cell_type": "markdown",
      "source": [
        "**Building a fuction**"
      ]
    },
    {
      "metadata": {
        "id": "ZNbtBTAUgZH5",
        "colab_type": "code",
        "colab": {}
      },
      "cell_type": "code",
      "source": [
        "# import praw\n",
        "\n",
        "def reddit_parser(subreddit_name, NUM = 1000):\n",
        "  # returns a dataset with general info\n",
        "  \n",
        "  # set the praw module and get the acces to the reddit API\n",
        "  reddit = praw.Reddit(client_id='NDCve4CTpQA9sA', \\\n",
        "                       client_secret='L-pmEs1BwIdtNZfvNfedrxCdn-c', \\\n",
        "                       user_agent='mumu_parser', \\\n",
        "                       username='mumu_parser', \\\n",
        "                       password='howcanweparse2018')\n",
        "\n",
        "  subreddit = reddit.subreddit(subreddit_name) # your subreddit name\n",
        "\n",
        "  ### general subreddit section ###\n",
        "  # create a null dictionary with columns where we will store the data gathered\n",
        "  subred_dict = {\"title\":[], \"id\":[], \"url\":[], \"num_comments\": [], \"score\":[], \"body\":[]}\n",
        "\n",
        "  for submission in subreddit.top(limit = NUM): # parse info on top posts in your subreddit \n",
        "    subred_dict[\"title\"].append(submission.title)\n",
        "    subred_dict[\"id\"].append(submission.id)\n",
        "    subred_dict[\"url\"].append(submission.url)\n",
        "    subred_dict[\"num_comments\"].append(submission.num_comments)\n",
        "    subred_dict[\"score\"].append(submission.score)\n",
        "    subred_dict[\"body\"].append(submission.selftext)\n",
        "\n",
        "\n",
        "  return pd.DataFrame(subred_dict)"
      ],
      "execution_count": 0,
      "outputs": []
    },
    {
      "metadata": {
        "id": "JMDMCl2_gZK9",
        "colab_type": "code",
        "colab": {}
      },
      "cell_type": "code",
      "source": [
        "# import nltk\n",
        "\n",
        "def redditcomments_parser(subreddit_name, NUM = 1000):\n",
        "  # returns a dataset with comments of a subreddit section\n",
        "  \n",
        "  # set the praw module and get the acces to the reddit API\n",
        "  reddit = praw.Reddit(client_id='NDCve4CTpQA9sA', \\\n",
        "                       client_secret='L-pmEs1BwIdtNZfvNfedrxCdn-c', \\\n",
        "                       user_agent='mumu_parser', \\\n",
        "                       username='mumu_parser', \\\n",
        "                       password='howcanweparse2018')\n",
        "\n",
        "  subreddit = reddit.subreddit(subreddit_name) # your subreddit name\n",
        "\n",
        "  ### comments section ###\n",
        "  sub_comments = []\n",
        "\n",
        "  for comment in subreddit.comments(limit=NUM):\n",
        "      sub_comments.append(comment.body)\n",
        "\n",
        "  from nltk.sentiment.vader import SentimentIntensityAnalyzer as SIA # first download all the packages\n",
        "\n",
        "  sia = SIA()\n",
        "  results = []\n",
        "\n",
        "  for comment in sub_comments:\n",
        "      pol_score = sia.polarity_scores(comment)\n",
        "      pol_score['sub_comments'] = comment\n",
        "      results.append(pol_score)\n",
        "\n",
        "  return pd.DataFrame.from_records(results)"
      ],
      "execution_count": 0,
      "outputs": []
    },
    {
      "metadata": {
        "id": "Ym2Kxd3cji6S",
        "colab_type": "code",
        "colab": {
          "base_uri": "https://localhost:8080/",
          "height": 359
        },
        "outputId": "8f081baf-8abe-475a-8fcb-034ab0cb7a95"
      },
      "cell_type": "code",
      "source": [
        "reddit_parser('politics', NUM=10)"
      ],
      "execution_count": 176,
      "outputs": [
        {
          "output_type": "execute_result",
          "data": {
            "text/html": [
              "<div>\n",
              "<style scoped>\n",
              "    .dataframe tbody tr th:only-of-type {\n",
              "        vertical-align: middle;\n",
              "    }\n",
              "\n",
              "    .dataframe tbody tr th {\n",
              "        vertical-align: top;\n",
              "    }\n",
              "\n",
              "    .dataframe thead th {\n",
              "        text-align: right;\n",
              "    }\n",
              "</style>\n",
              "<table border=\"1\" class=\"dataframe\">\n",
              "  <thead>\n",
              "    <tr style=\"text-align: right;\">\n",
              "      <th></th>\n",
              "      <th>body</th>\n",
              "      <th>id</th>\n",
              "      <th>num_comments</th>\n",
              "      <th>score</th>\n",
              "      <th>title</th>\n",
              "      <th>url</th>\n",
              "    </tr>\n",
              "  </thead>\n",
              "  <tbody>\n",
              "    <tr>\n",
              "      <th>0</th>\n",
              "      <td></td>\n",
              "      <td>9uuhl3</td>\n",
              "      <td>2777</td>\n",
              "      <td>100731</td>\n",
              "      <td>Kim Davis, clerk who refused to sign marriage ...</td>\n",
              "      <td>https://www.kentucky.com/news/politics-governm...</td>\n",
              "    </tr>\n",
              "    <tr>\n",
              "      <th>1</th>\n",
              "      <td></td>\n",
              "      <td>6bd42j</td>\n",
              "      <td>20906</td>\n",
              "      <td>99354</td>\n",
              "      <td>Trump revealed highly classified information t...</td>\n",
              "      <td>https://www.washingtonpost.com/world/national-...</td>\n",
              "    </tr>\n",
              "    <tr>\n",
              "      <th>2</th>\n",
              "      <td></td>\n",
              "      <td>7t12e6</td>\n",
              "      <td>14604</td>\n",
              "      <td>95195</td>\n",
              "      <td>Trump Ordered Mueller Fired, but Backed Off Wh...</td>\n",
              "      <td>https://www.nytimes.com/2018/01/25/us/politics...</td>\n",
              "    </tr>\n",
              "    <tr>\n",
              "      <th>3</th>\n",
              "      <td></td>\n",
              "      <td>9ymbzc</td>\n",
              "      <td>6615</td>\n",
              "      <td>89273</td>\n",
              "      <td>Ivanka Trump used a personal email account to ...</td>\n",
              "      <td>https://www.washingtonpost.com/politics/ivanka...</td>\n",
              "    </tr>\n",
              "    <tr>\n",
              "      <th>4</th>\n",
              "      <td></td>\n",
              "      <td>7fpqwf</td>\n",
              "      <td>1954</td>\n",
              "      <td>88282</td>\n",
              "      <td>A petition calling for FCC Chairman Ajit Pai t...</td>\n",
              "      <td>https://www.dailydot.com/layer8/we-the-petitio...</td>\n",
              "    </tr>\n",
              "    <tr>\n",
              "      <th>5</th>\n",
              "      <td></td>\n",
              "      <td>7ekkmo</td>\n",
              "      <td>1728</td>\n",
              "      <td>87633</td>\n",
              "      <td>The FCC’s craven net neutrality vote announcem...</td>\n",
              "      <td>https://techcrunch.com/2017/11/21/the-fccs-cra...</td>\n",
              "    </tr>\n",
              "    <tr>\n",
              "      <th>6</th>\n",
              "      <td></td>\n",
              "      <td>9v57rh</td>\n",
              "      <td>8442</td>\n",
              "      <td>82702</td>\n",
              "      <td>'A Red Line Crossed': Nationwide Protests Decl...</td>\n",
              "      <td>https://www.commondreams.org/news/2018/11/07/r...</td>\n",
              "    </tr>\n",
              "    <tr>\n",
              "      <th>7</th>\n",
              "      <td></td>\n",
              "      <td>a8nmov</td>\n",
              "      <td>4116</td>\n",
              "      <td>82393</td>\n",
              "      <td>Alexandria Ocasio-Cortez Says Lawmakers Should...</td>\n",
              "      <td>https://www.newsweek.com/alexandria-ocasio-cor...</td>\n",
              "    </tr>\n",
              "    <tr>\n",
              "      <th>8</th>\n",
              "      <td></td>\n",
              "      <td>7eizpg</td>\n",
              "      <td>5785</td>\n",
              "      <td>81983</td>\n",
              "      <td>The FCC has unveiled its plan to repeal its ne...</td>\n",
              "      <td>https://www.washingtonpost.com/news/the-switch...</td>\n",
              "    </tr>\n",
              "    <tr>\n",
              "      <th>9</th>\n",
              "      <td></td>\n",
              "      <td>62a3kj</td>\n",
              "      <td>2359</td>\n",
              "      <td>80378</td>\n",
              "      <td>‘Cards Against Humanity’ Creator Just Pledged ...</td>\n",
              "      <td>http://resistancereport.com/news/cards-humanit...</td>\n",
              "    </tr>\n",
              "  </tbody>\n",
              "</table>\n",
              "</div>"
            ],
            "text/plain": [
              "  body      id  num_comments   score  \\\n",
              "0       9uuhl3          2777  100731   \n",
              "1       6bd42j         20906   99354   \n",
              "2       7t12e6         14604   95195   \n",
              "3       9ymbzc          6615   89273   \n",
              "4       7fpqwf          1954   88282   \n",
              "5       7ekkmo          1728   87633   \n",
              "6       9v57rh          8442   82702   \n",
              "7       a8nmov          4116   82393   \n",
              "8       7eizpg          5785   81983   \n",
              "9       62a3kj          2359   80378   \n",
              "\n",
              "                                               title  \\\n",
              "0  Kim Davis, clerk who refused to sign marriage ...   \n",
              "1  Trump revealed highly classified information t...   \n",
              "2  Trump Ordered Mueller Fired, but Backed Off Wh...   \n",
              "3  Ivanka Trump used a personal email account to ...   \n",
              "4  A petition calling for FCC Chairman Ajit Pai t...   \n",
              "5  The FCC’s craven net neutrality vote announcem...   \n",
              "6  'A Red Line Crossed': Nationwide Protests Decl...   \n",
              "7  Alexandria Ocasio-Cortez Says Lawmakers Should...   \n",
              "8  The FCC has unveiled its plan to repeal its ne...   \n",
              "9  ‘Cards Against Humanity’ Creator Just Pledged ...   \n",
              "\n",
              "                                                 url  \n",
              "0  https://www.kentucky.com/news/politics-governm...  \n",
              "1  https://www.washingtonpost.com/world/national-...  \n",
              "2  https://www.nytimes.com/2018/01/25/us/politics...  \n",
              "3  https://www.washingtonpost.com/politics/ivanka...  \n",
              "4  https://www.dailydot.com/layer8/we-the-petitio...  \n",
              "5  https://techcrunch.com/2017/11/21/the-fccs-cra...  \n",
              "6  https://www.commondreams.org/news/2018/11/07/r...  \n",
              "7  https://www.newsweek.com/alexandria-ocasio-cor...  \n",
              "8  https://www.washingtonpost.com/news/the-switch...  \n",
              "9  http://resistancereport.com/news/cards-humanit...  "
            ]
          },
          "metadata": {
            "tags": []
          },
          "execution_count": 176
        }
      ]
    },
    {
      "metadata": {
        "id": "gEhdEy0ml3Rv",
        "colab_type": "code",
        "colab": {
          "base_uri": "https://localhost:8080/",
          "height": 359
        },
        "outputId": "acba65ce-6e90-42bf-d7c6-073a7a62bb70"
      },
      "cell_type": "code",
      "source": [
        "redditcomments_parser(\"politics\", NUM=10)"
      ],
      "execution_count": 177,
      "outputs": [
        {
          "output_type": "execute_result",
          "data": {
            "text/html": [
              "<div>\n",
              "<style scoped>\n",
              "    .dataframe tbody tr th:only-of-type {\n",
              "        vertical-align: middle;\n",
              "    }\n",
              "\n",
              "    .dataframe tbody tr th {\n",
              "        vertical-align: top;\n",
              "    }\n",
              "\n",
              "    .dataframe thead th {\n",
              "        text-align: right;\n",
              "    }\n",
              "</style>\n",
              "<table border=\"1\" class=\"dataframe\">\n",
              "  <thead>\n",
              "    <tr style=\"text-align: right;\">\n",
              "      <th></th>\n",
              "      <th>compound</th>\n",
              "      <th>neg</th>\n",
              "      <th>neu</th>\n",
              "      <th>pos</th>\n",
              "      <th>sub_comments</th>\n",
              "    </tr>\n",
              "  </thead>\n",
              "  <tbody>\n",
              "    <tr>\n",
              "      <th>0</th>\n",
              "      <td>-0.7543</td>\n",
              "      <td>0.194</td>\n",
              "      <td>0.806</td>\n",
              "      <td>0.000</td>\n",
              "      <td>Im sorry you have trouble seeing through the e...</td>\n",
              "    </tr>\n",
              "    <tr>\n",
              "      <th>1</th>\n",
              "      <td>-0.9619</td>\n",
              "      <td>0.225</td>\n",
              "      <td>0.746</td>\n",
              "      <td>0.028</td>\n",
              "      <td>I'm trying to avoid mislabeling it, nothing mo...</td>\n",
              "    </tr>\n",
              "    <tr>\n",
              "      <th>2</th>\n",
              "      <td>-0.8074</td>\n",
              "      <td>0.274</td>\n",
              "      <td>0.726</td>\n",
              "      <td>0.000</td>\n",
              "      <td>So he can't sit down with someone who he has n...</td>\n",
              "    </tr>\n",
              "    <tr>\n",
              "      <th>3</th>\n",
              "      <td>0.8349</td>\n",
              "      <td>0.000</td>\n",
              "      <td>0.759</td>\n",
              "      <td>0.241</td>\n",
              "      <td>Some of the Bernie people were running Beto's ...</td>\n",
              "    </tr>\n",
              "    <tr>\n",
              "      <th>4</th>\n",
              "      <td>-0.9432</td>\n",
              "      <td>0.192</td>\n",
              "      <td>0.766</td>\n",
              "      <td>0.042</td>\n",
              "      <td>Here's the problem with this comparison. Liter...</td>\n",
              "    </tr>\n",
              "    <tr>\n",
              "      <th>5</th>\n",
              "      <td>-0.5367</td>\n",
              "      <td>0.078</td>\n",
              "      <td>0.922</td>\n",
              "      <td>0.000</td>\n",
              "      <td>Trump is doing this so he can steal 5bil from ...</td>\n",
              "    </tr>\n",
              "    <tr>\n",
              "      <th>6</th>\n",
              "      <td>0.0000</td>\n",
              "      <td>0.000</td>\n",
              "      <td>1.000</td>\n",
              "      <td>0.000</td>\n",
              "      <td>He just went for the headlines and photo op.  ...</td>\n",
              "    </tr>\n",
              "    <tr>\n",
              "      <th>7</th>\n",
              "      <td>0.5230</td>\n",
              "      <td>0.120</td>\n",
              "      <td>0.732</td>\n",
              "      <td>0.147</td>\n",
              "      <td>&gt;A spokeswoman for the College Sports Informat...</td>\n",
              "    </tr>\n",
              "    <tr>\n",
              "      <th>8</th>\n",
              "      <td>0.6808</td>\n",
              "      <td>0.090</td>\n",
              "      <td>0.711</td>\n",
              "      <td>0.199</td>\n",
              "      <td>Ffs, just run the best candidate. Period. Man,...</td>\n",
              "    </tr>\n",
              "    <tr>\n",
              "      <th>9</th>\n",
              "      <td>-0.7981</td>\n",
              "      <td>0.223</td>\n",
              "      <td>0.723</td>\n",
              "      <td>0.054</td>\n",
              "      <td>Dude, I don't like him and have put him down a...</td>\n",
              "    </tr>\n",
              "  </tbody>\n",
              "</table>\n",
              "</div>"
            ],
            "text/plain": [
              "   compound    neg    neu    pos  \\\n",
              "0   -0.7543  0.194  0.806  0.000   \n",
              "1   -0.9619  0.225  0.746  0.028   \n",
              "2   -0.8074  0.274  0.726  0.000   \n",
              "3    0.8349  0.000  0.759  0.241   \n",
              "4   -0.9432  0.192  0.766  0.042   \n",
              "5   -0.5367  0.078  0.922  0.000   \n",
              "6    0.0000  0.000  1.000  0.000   \n",
              "7    0.5230  0.120  0.732  0.147   \n",
              "8    0.6808  0.090  0.711  0.199   \n",
              "9   -0.7981  0.223  0.723  0.054   \n",
              "\n",
              "                                        sub_comments  \n",
              "0  Im sorry you have trouble seeing through the e...  \n",
              "1  I'm trying to avoid mislabeling it, nothing mo...  \n",
              "2  So he can't sit down with someone who he has n...  \n",
              "3  Some of the Bernie people were running Beto's ...  \n",
              "4  Here's the problem with this comparison. Liter...  \n",
              "5  Trump is doing this so he can steal 5bil from ...  \n",
              "6  He just went for the headlines and photo op.  ...  \n",
              "7  >A spokeswoman for the College Sports Informat...  \n",
              "8  Ffs, just run the best candidate. Period. Man,...  \n",
              "9  Dude, I don't like him and have put him down a...  "
            ]
          },
          "metadata": {
            "tags": []
          },
          "execution_count": 177
        }
      ]
    },
    {
      "metadata": {
        "id": "peuKvn6qmCIq",
        "colab_type": "code",
        "colab": {}
      },
      "cell_type": "code",
      "source": [
        ""
      ],
      "execution_count": 0,
      "outputs": []
    }
  ]
}